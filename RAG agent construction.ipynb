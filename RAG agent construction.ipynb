{
 "cells": [
  {
   "cell_type": "markdown",
   "id": "d7935f9f",
   "metadata": {},
   "source": [
    "In our project we choose to use Nvidia_api for functionality, you can easily get an nvidia_api_key for AI foundation models in https://org.ngc.nvidia.com/setup/personal-keys."
   ]
  },
  {
   "cell_type": "code",
   "execution_count": 1,
   "id": "9432d4cf",
   "metadata": {},
   "outputs": [],
   "source": [
    "from langchain_nvidia_ai_endpoints._common import NVEModel"
   ]
  },
  {
   "cell_type": "code",
   "execution_count": 2,
   "id": "afd50a5d",
   "metadata": {},
   "outputs": [
    {
     "name": "stdout",
     "output_type": "stream",
     "text": [
      "NVIDIA API Key: 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\n",
      "Retrieved NVIDIA_API_KEY beginning with \"nvapi--ws...\"\n"
     ]
    }
   ],
   "source": [
    "import os\n",
    "\n",
    "# Function to retrieve NVIDIA API key\n",
    "def retrieve_nvidia_api_key():\n",
    "    api_key = os.environ.get(\"NVIDIA_API_KEY\")\n",
    "    if api_key and \"nvapi-\" in api_key:\n",
    "        return api_key\n",
    "\n",
    "    hard_reset = False  # Set to True if you want to reset your NVIDIA_API_KEY\n",
    "    while not api_key or \"nvapi-\" not in api_key or hard_reset:\n",
    "        try:\n",
    "            assert not hard_reset\n",
    "            api_key_input = input(\"NVIDIA API Key: \")\n",
    "            assert api_key_input.startswith('nvapi-')\n",
    "            api_key = api_key_input\n",
    "        except:\n",
    "            print(\"[!] API key assignment failed. Make sure it starts with `nvapi-` as generated from the model pages.\")\n",
    "        hard_reset = False\n",
    "\n",
    "    os.environ[\"NVIDIA_API_KEY\"] = api_key\n",
    "    return api_key\n",
    "\n",
    "# Retrieve NVIDIA API key\n",
    "api_key = retrieve_nvidia_api_key()\n",
    "print(f\"Retrieved NVIDIA_API_KEY beginning with \\\"{api_key[:9]}...\\\"\")"
   ]
  },
  {
   "cell_type": "code",
   "execution_count": 3,
   "id": "42bece8e",
   "metadata": {},
   "outputs": [
    {
     "data": {
      "text/plain": [
       "{'playground_llama2_code_34b': 'df2bee43-fb69-42b9-9ee5-f4eabbeaf3a8',\n",
       " 'ai-codellama-70b': 'f6b06895-d073-4714-8bb2-26c09e9f6597',\n",
       " 'ai-sdxl-turbo': 'f886140c-424e-4c82-a841-99e23f9ae35d',\n",
       " 'playground_cuopt': '8f2fbd00-2633-41ce-ab4e-e5736d74bff7',\n",
       " 'ai-ai-weather-forecasting': '9cec444c-db1c-4525-9c6f-f40e4a5b11ce',\n",
       " 'ai-stable-video-diffusion': '8cd594f1-6a4d-4f8f-82b4-d1bf89adae98',\n",
       " 'ai-example': '80a5d6c6-7658-49c5-b2b0-105bfb210282',\n",
       " 'playground_llama2_13b': 'e0bb7fb9-5333-4a27-8534-c6288f921d3f',\n",
       " 'ai-fuyu-8b': 'e598bfc1-b058-41af-869d-556d3c7e1b48',\n",
       " 'ai-esmfold': 'a68c59e0-47a6-4a50-bf64-6d88766d56bf',\n",
       " 'ai-mixtral-8x22b': '39655fc1-9ebc-4b24-963e-6915ea6680de',\n",
       " 'playground_starcoder2_15b': '6acada03-fe2f-4e4d-9e0a-e711b9fd1b59',\n",
       " 'ai-phi-3-mini-4k': 'ad974453-80d4-46df-a02d-6f7dae20c010',\n",
       " 'ai-mixtral-8x22b-instruct': '710c92d0-7c98-46d6-b5ae-07e84bcaa5d3',\n",
       " 'playground_mamba_chat': '381be320-4721-4664-bd75-58f8783b43c7',\n",
       " 'ai-nvidia-cuopt': 'b0ac1378-3d00-43cb-a8d9-0f0c37ef36c0',\n",
       " 'ai-vista-3d': '72311276-923f-4478-a506-d5b80914728a',\n",
       " 'ai-embed-qa-4': '09c64e32-2b65-4892-a285-2f585408d118',\n",
       " 'ai-mixtral-8x7b-instruct': 'a1e53ece-bff4-44d1-8b13-c009e5bf47f6',\n",
       " 'ai-llama2-70b': '2fddadfb-7e76-4c8a-9b82-f7d3fab94471',\n",
       " 'ai-recurrentgemma-2b': '2f495340-a99f-4b4b-89bd-1beb003dd896',\n",
       " 'playground_mistral_7b': '35ec3354-2681-4d0e-a8dd-80325dcf7c63',\n",
       " 'ai-arctic-embed-l': '1528a0ad-205a-46ac-a783-94e2372586a9',\n",
       " 'playground_llama2_code_70b': '2ae529dc-f728-4a46-9b8d-2697213666d8',\n",
       " 'playground_fuyu_8b': '9f757064-657f-4c85-abd7-37a7a9b6ee11',\n",
       " 'ai-parakeet-ctc-riva': '22164014-a6cc-4a6f-b048-f3a303e745bb',\n",
       " 'ai-microsoft-kosmos-2': '6018fed7-f227-48dc-99bc-3fd4264d5037',\n",
       " 'ai-diffdock': 'f3dda972-561a-4772-8c09-873594b6fb72',\n",
       " 'ai-llama3-8b': 'a5a3ad64-ec2c-4bfc-8ef7-5636f26630fe',\n",
       " 'playground_gemma_7b': '1361fa56-61d7-4a12-af32-69a3825746fa',\n",
       " 'ai-rerank-qa-mistral-4b': '0bf77f50-5c35-4488-8e7a-f49bb1974af6',\n",
       " 'ai-codegemma-7b': '7dfc10a8-3cc4-448e-97c1-2213308dc222',\n",
       " 'ai-mistral-large': '767b5b9a-3f9d-4c1d-86e8-fa861988cee7',\n",
       " 'ai-gemma-2b': '04174188-f742-4069-9e72-d77c2b77d3cb',\n",
       " 'playground_phi2': '6251d6d2-54ee-4486-90f4-2792bf0d3acd',\n",
       " 'playground_kosmos_2': '0bcd1a8c-451f-4b12-b7f0-64b4781190d1',\n",
       " 'playground_nv_llama2_rlhf_70b': '7b3e3361-4266-41c8-b312-f5e33c81fc92',\n",
       " 'ai-neva-22b': 'bc205f8e-1740-40df-8d32-c4321763498a',\n",
       " 'playground_sdxl': '89848fb8-549f-41bb-88cb-95d6597044a4',\n",
       " 'playground_mixtral_8x7b': '8f4118ba-60a8-4e6b-8574-e38a4067a4a3',\n",
       " 'playground_clip': '8c21289c-0b18-446d-8838-011b7249c513',\n",
       " 'ai-dbrx-instruct': '3d6c2ff8-8bfc-4d10-8fd0-b7337288e869',\n",
       " 'playground_deplot': '3bc390c7-eeec-40f7-a64d-0c6a719985f7',\n",
       " 'ai-google-deplot': '784a8ca4-ea7d-4c93-bb46-ec027c3fae47',\n",
       " 'playground_nemotron_steerlm_8b': '1423ff2f-d1c7-4061-82a7-9e8c67afd43a',\n",
       " 'playground_smaug_72b': '008cff6d-4f4c-4514-b61e-bcfad6ba52a7',\n",
       " 'playground_steerlm_llama_70b': 'd6fe6881-973a-4279-a0f8-e1d486c9618d',\n",
       " 'playground_yi_34b': '347fa3f3-d675-432c-b844-669ef8ee53df',\n",
       " 'playground_gemma_2b': '5bde8f6f-7e83-4413-a0f2-7b97be33988e',\n",
       " 'playground_seamless': '72ad9555-2e3d-4e73-9050-a37129064743',\n",
       " 'ai-mistral-7b-instruct-v2': 'd7618e99-db93-4465-af4d-330213a7f51f',\n",
       " 'ai-arctic': '7408b6b5-09e7-4ae5-a3fe-2db063e4e609',\n",
       " 'ai-llama3-70b': 'a88f115a-4a47-4381-ad62-ca25dc33dc1b',\n",
       " 'playground_llama2_code_13b': 'f6a96af4-8bf9-4294-96d6-d71aa787612e',\n",
       " 'playground_nvolveqa_40k': '091a03bb-7364-4087-8090-bd71e9277520',\n",
       " 'ai-phi-3-mini': '4a58c6cb-a9b4-4014-99de-3e704d4ae687',\n",
       " 'playground_llama2_70b': '0e349b44-440a-44e1-93e9-abe8dcb27158',\n",
       " 'ai-molmim-generate': '72be0b68-179f-412c-ac03-9a481f78cb9f',\n",
       " 'ai-stable-diffusion-xl': 'c1b63bb0-448b-4e53-b2a7-fb0b3723cbe2',\n",
       " 'playground_llama_guard': 'b34280ac-24e4-4081-bfaa-501e9ee16b6f',\n",
       " 'ai-gemma-7b': 'a13e3bed-ca42-48f8-b3f1-fbc47b9675f9',\n",
       " 'playground_neva_22b': '8bf70738-59b9-4e5f-bc87-7ab4203be7a0',\n",
       " 'playground_nemotron_qa_8b': '0c60f14d-46cb-465e-b994-227e1c3d5047'}"
      ]
     },
     "execution_count": 3,
     "metadata": {},
     "output_type": "execute_result"
    }
   ],
   "source": [
    "from langchain_nvidia_ai_endpoints._common import NVEModel\n",
    "NVEModel().available_models"
   ]
  },
  {
   "cell_type": "markdown",
   "id": "48d81365",
   "metadata": {},
   "source": [
    "## RAG for conversation history"
   ]
  },
  {
   "cell_type": "code",
   "execution_count": 5,
   "id": "4bf39125",
   "metadata": {},
   "outputs": [],
   "source": [
    "from functools import partial\n",
    "from rich.console import Console\n",
    "from rich.style import Style\n",
    "from rich.theme import Theme\n",
    "\n",
    "console = Console()\n",
    "base_style = Style(color=\"#76B900\", bold=True)\n",
    "pprint = partial(console.print, style=base_style)"
   ]
  },
  {
   "cell_type": "code",
   "execution_count": 6,
   "id": "496855c4",
   "metadata": {},
   "outputs": [],
   "source": [
    "conversation = [  ## This conversation was generated partially by an AI system, and modified to exhibit desirable properties\n",
    "    \"[User]  Hello! My name is Misa, and I'm a big blue bear! Can you please tell me about the rocky mountains?\",\n",
    "    \"[Agent] The Rocky Mountains are a beautiful and majestic range of mountains that stretch across North America\",\n",
    "    \"[Misa] Wow, that sounds amazing! Ive never been to the Rocky Mountains before, but Ive heard many great things about them.\",\n",
    "    \"[Agent] I hope you get to visit them someday, Misa! It would be a great adventure for you!\"\n",
    "    \"[Misa] Thank you for the suggestion! Ill definitely keep it in mind for the future.\",\n",
    "    \"[Agent] In the meantime, you can learn more about the Rocky Mountains by doing some research online or watching documentaries about them.\"\n",
    "    \"[Misa] I live in the arctic, so I'm not used to the warm climate there. I was just curious, ya know!\",\n",
    "    \"[Agent] Absolutely! Lets continue the conversation and explore more about the Rocky Mountains and their significance!\"\n",
    "]"
   ]
  },
  {
   "cell_type": "markdown",
   "id": "322ea2fa",
   "metadata": {},
   "source": [
    "We choose to use FAISS to make the embedding process fast and scalable on our local machine."
   ]
  },
  {
   "cell_type": "code",
   "execution_count": 7,
   "id": "d541719b",
   "metadata": {},
   "outputs": [
    {
     "name": "stdout",
     "output_type": "stream",
     "text": [
      "CPU times: total: 250 ms\n",
      "Wall time: 2.43 s\n"
     ]
    }
   ],
   "source": [
    "%%time\n",
    "## ^^ This cell will be timed to see how long the conversation embedding takes\n",
    "from langchain_nvidia_ai_endpoints import NVIDIAEmbeddings\n",
    "from langchain.vectorstores import FAISS\n",
    "\n",
    "embedder = NVIDIAEmbeddings(model=\"nvolveqa_40k\")\n",
    "\n",
    "## Streamlined from_texts FAISS vectorstore construction from text list\n",
    "convstore = FAISS.from_texts(conversation, embedding=embedder)\n",
    "retriever = convstore.as_retriever()"
   ]
  },
  {
   "cell_type": "markdown",
   "id": "774f04b0",
   "metadata": {},
   "source": [
    "Simple test"
   ]
  },
  {
   "cell_type": "code",
   "execution_count": 10,
   "id": "3522397d",
   "metadata": {},
   "outputs": [
    {
     "data": {
      "text/html": [
       "<pre style=\"white-space:pre;overflow-x:auto;line-height:normal;font-family:Menlo,'DejaVu Sans Mono',consolas,'Courier New',monospace\"><span style=\"color: #76b900; text-decoration-color: #76b900; font-weight: bold\">[</span>\n",
       "<span style=\"color: #76b900; text-decoration-color: #76b900; font-weight: bold\">    </span><span style=\"color: #800080; text-decoration-color: #800080; font-weight: bold\">Document</span><span style=\"color: #76b900; text-decoration-color: #76b900; font-weight: bold\">(</span>\n",
       "<span style=\"color: #76b900; text-decoration-color: #76b900; font-weight: bold\">        </span><span style=\"color: #808000; text-decoration-color: #808000; font-weight: bold\">page_content</span><span style=\"color: #76b900; text-decoration-color: #76b900; font-weight: bold\">=</span><span style=\"color: #008000; text-decoration-color: #008000\">\"[User]  Hello! My name is Misa, and I'm a big blue bear! Can you please tell me about the </span>\n",
       "<span style=\"color: #008000; text-decoration-color: #008000\">rocky mountains?\"</span>\n",
       "<span style=\"color: #76b900; text-decoration-color: #76b900; font-weight: bold\">    ),</span>\n",
       "<span style=\"color: #76b900; text-decoration-color: #76b900; font-weight: bold\">    </span><span style=\"color: #800080; text-decoration-color: #800080; font-weight: bold\">Document</span><span style=\"color: #76b900; text-decoration-color: #76b900; font-weight: bold\">(</span>\n",
       "<span style=\"color: #76b900; text-decoration-color: #76b900; font-weight: bold\">        </span><span style=\"color: #808000; text-decoration-color: #808000; font-weight: bold\">page_content</span><span style=\"color: #76b900; text-decoration-color: #76b900; font-weight: bold\">=</span><span style=\"color: #008000; text-decoration-color: #008000\">'[Agent] Absolutely! Lets continue the conversation and explore more about the Rocky Mountains</span>\n",
       "<span style=\"color: #008000; text-decoration-color: #008000\">and their significance!'</span>\n",
       "<span style=\"color: #76b900; text-decoration-color: #76b900; font-weight: bold\">    ),</span>\n",
       "<span style=\"color: #76b900; text-decoration-color: #76b900; font-weight: bold\">    </span><span style=\"color: #800080; text-decoration-color: #800080; font-weight: bold\">Document</span><span style=\"color: #76b900; text-decoration-color: #76b900; font-weight: bold\">(</span>\n",
       "<span style=\"color: #76b900; text-decoration-color: #76b900; font-weight: bold\">        </span><span style=\"color: #808000; text-decoration-color: #808000; font-weight: bold\">page_content</span><span style=\"color: #76b900; text-decoration-color: #76b900; font-weight: bold\">=</span><span style=\"color: #008000; text-decoration-color: #008000\">\"[Agent] In the meantime, you can learn more about the Rocky Mountains by doing some research </span>\n",
       "<span style=\"color: #008000; text-decoration-color: #008000\">online or watching documentaries about them.[Misa] I live in the arctic, so I'm not used to the warm climate there.</span>\n",
       "<span style=\"color: #008000; text-decoration-color: #008000\">I was just curious, ya know!\"</span>\n",
       "<span style=\"color: #76b900; text-decoration-color: #76b900; font-weight: bold\">    ),</span>\n",
       "<span style=\"color: #76b900; text-decoration-color: #76b900; font-weight: bold\">    </span><span style=\"color: #800080; text-decoration-color: #800080; font-weight: bold\">Document</span><span style=\"color: #76b900; text-decoration-color: #76b900; font-weight: bold\">(</span>\n",
       "<span style=\"color: #76b900; text-decoration-color: #76b900; font-weight: bold\">        </span><span style=\"color: #808000; text-decoration-color: #808000; font-weight: bold\">page_content</span><span style=\"color: #76b900; text-decoration-color: #76b900; font-weight: bold\">=</span><span style=\"color: #008000; text-decoration-color: #008000\">'[Agent] The Rocky Mountains are a beautiful and majestic range of mountains that stretch </span>\n",
       "<span style=\"color: #008000; text-decoration-color: #008000\">across North America'</span>\n",
       "<span style=\"color: #76b900; text-decoration-color: #76b900; font-weight: bold\">    )</span>\n",
       "<span style=\"color: #76b900; text-decoration-color: #76b900; font-weight: bold\">]</span>\n",
       "</pre>\n"
      ],
      "text/plain": [
       "\u001b[1;38;2;118;185;0m[\u001b[0m\n",
       "\u001b[1;38;2;118;185;0m    \u001b[0m\u001b[1;35mDocument\u001b[0m\u001b[1;38;2;118;185;0m(\u001b[0m\n",
       "\u001b[1;38;2;118;185;0m        \u001b[0m\u001b[1;33mpage_content\u001b[0m\u001b[1;38;2;118;185;0m=\u001b[0m\u001b[32m\"\u001b[0m\u001b[32m[\u001b[0m\u001b[32mUser\u001b[0m\u001b[32m]\u001b[0m\u001b[32m  Hello! My name is Misa, and I'm a big blue bear! Can you please tell me about the \u001b[0m\n",
       "\u001b[32mrocky mountains?\"\u001b[0m\n",
       "\u001b[1;38;2;118;185;0m    \u001b[0m\u001b[1;38;2;118;185;0m)\u001b[0m\u001b[1;38;2;118;185;0m,\u001b[0m\n",
       "\u001b[1;38;2;118;185;0m    \u001b[0m\u001b[1;35mDocument\u001b[0m\u001b[1;38;2;118;185;0m(\u001b[0m\n",
       "\u001b[1;38;2;118;185;0m        \u001b[0m\u001b[1;33mpage_content\u001b[0m\u001b[1;38;2;118;185;0m=\u001b[0m\u001b[32m'\u001b[0m\u001b[32m[\u001b[0m\u001b[32mAgent\u001b[0m\u001b[32m]\u001b[0m\u001b[32m Absolutely! Lets continue the conversation and explore more about the Rocky Mountains\u001b[0m\n",
       "\u001b[32mand their significance!'\u001b[0m\n",
       "\u001b[1;38;2;118;185;0m    \u001b[0m\u001b[1;38;2;118;185;0m)\u001b[0m\u001b[1;38;2;118;185;0m,\u001b[0m\n",
       "\u001b[1;38;2;118;185;0m    \u001b[0m\u001b[1;35mDocument\u001b[0m\u001b[1;38;2;118;185;0m(\u001b[0m\n",
       "\u001b[1;38;2;118;185;0m        \u001b[0m\u001b[1;33mpage_content\u001b[0m\u001b[1;38;2;118;185;0m=\u001b[0m\u001b[32m\"\u001b[0m\u001b[32m[\u001b[0m\u001b[32mAgent\u001b[0m\u001b[32m]\u001b[0m\u001b[32m In the meantime, you can learn more about the Rocky Mountains by doing some research \u001b[0m\n",
       "\u001b[32monline or watching documentaries about them.\u001b[0m\u001b[32m[\u001b[0m\u001b[32mMisa\u001b[0m\u001b[32m]\u001b[0m\u001b[32m I live in the arctic, so I'm not used to the warm climate there.\u001b[0m\n",
       "\u001b[32mI was just curious, ya know!\"\u001b[0m\n",
       "\u001b[1;38;2;118;185;0m    \u001b[0m\u001b[1;38;2;118;185;0m)\u001b[0m\u001b[1;38;2;118;185;0m,\u001b[0m\n",
       "\u001b[1;38;2;118;185;0m    \u001b[0m\u001b[1;35mDocument\u001b[0m\u001b[1;38;2;118;185;0m(\u001b[0m\n",
       "\u001b[1;38;2;118;185;0m        \u001b[0m\u001b[1;33mpage_content\u001b[0m\u001b[1;38;2;118;185;0m=\u001b[0m\u001b[32m'\u001b[0m\u001b[32m[\u001b[0m\u001b[32mAgent\u001b[0m\u001b[32m]\u001b[0m\u001b[32m The Rocky Mountains are a beautiful and majestic range of mountains that stretch \u001b[0m\n",
       "\u001b[32macross North America'\u001b[0m\n",
       "\u001b[1;38;2;118;185;0m    \u001b[0m\u001b[1;38;2;118;185;0m)\u001b[0m\n",
       "\u001b[1;38;2;118;185;0m]\u001b[0m\n"
      ]
     },
     "metadata": {},
     "output_type": "display_data"
    }
   ],
   "source": [
    "pprint(retriever.invoke(\"What is your name?\"))"
   ]
  },
  {
   "cell_type": "code",
   "execution_count": 11,
   "id": "f01ded93",
   "metadata": {},
   "outputs": [
    {
     "data": {
      "text/html": [
       "<pre style=\"white-space:pre;overflow-x:auto;line-height:normal;font-family:Menlo,'DejaVu Sans Mono',consolas,'Courier New',monospace\"><span style=\"color: #76b900; text-decoration-color: #76b900; font-weight: bold\">[</span>\n",
       "<span style=\"color: #76b900; text-decoration-color: #76b900; font-weight: bold\">    </span><span style=\"color: #800080; text-decoration-color: #800080; font-weight: bold\">Document</span><span style=\"color: #76b900; text-decoration-color: #76b900; font-weight: bold\">(</span>\n",
       "<span style=\"color: #76b900; text-decoration-color: #76b900; font-weight: bold\">        </span><span style=\"color: #808000; text-decoration-color: #808000; font-weight: bold\">page_content</span><span style=\"color: #76b900; text-decoration-color: #76b900; font-weight: bold\">=</span><span style=\"color: #008000; text-decoration-color: #008000\">'[Agent] The Rocky Mountains are a beautiful and majestic range of mountains that stretch </span>\n",
       "<span style=\"color: #008000; text-decoration-color: #008000\">across North America'</span>\n",
       "<span style=\"color: #76b900; text-decoration-color: #76b900; font-weight: bold\">    ),</span>\n",
       "<span style=\"color: #76b900; text-decoration-color: #76b900; font-weight: bold\">    </span><span style=\"color: #800080; text-decoration-color: #800080; font-weight: bold\">Document</span><span style=\"color: #76b900; text-decoration-color: #76b900; font-weight: bold\">(</span>\n",
       "<span style=\"color: #76b900; text-decoration-color: #76b900; font-weight: bold\">        </span><span style=\"color: #808000; text-decoration-color: #808000; font-weight: bold\">page_content</span><span style=\"color: #76b900; text-decoration-color: #76b900; font-weight: bold\">=</span><span style=\"color: #008000; text-decoration-color: #008000\">\"[Agent] In the meantime, you can learn more about the Rocky Mountains by doing some research </span>\n",
       "<span style=\"color: #008000; text-decoration-color: #008000\">online or watching documentaries about them.[Misa] I live in the arctic, so I'm not used to the warm climate there.</span>\n",
       "<span style=\"color: #008000; text-decoration-color: #008000\">I was just curious, ya know!\"</span>\n",
       "<span style=\"color: #76b900; text-decoration-color: #76b900; font-weight: bold\">    ),</span>\n",
       "<span style=\"color: #76b900; text-decoration-color: #76b900; font-weight: bold\">    </span><span style=\"color: #800080; text-decoration-color: #800080; font-weight: bold\">Document</span><span style=\"color: #76b900; text-decoration-color: #76b900; font-weight: bold\">(</span>\n",
       "<span style=\"color: #76b900; text-decoration-color: #76b900; font-weight: bold\">        </span><span style=\"color: #808000; text-decoration-color: #808000; font-weight: bold\">page_content</span><span style=\"color: #76b900; text-decoration-color: #76b900; font-weight: bold\">=</span><span style=\"color: #008000; text-decoration-color: #008000\">'[Agent] Absolutely! Lets continue the conversation and explore more about the Rocky Mountains</span>\n",
       "<span style=\"color: #008000; text-decoration-color: #008000\">and their significance!'</span>\n",
       "<span style=\"color: #76b900; text-decoration-color: #76b900; font-weight: bold\">    ),</span>\n",
       "<span style=\"color: #76b900; text-decoration-color: #76b900; font-weight: bold\">    </span><span style=\"color: #800080; text-decoration-color: #800080; font-weight: bold\">Document</span><span style=\"color: #76b900; text-decoration-color: #76b900; font-weight: bold\">(</span>\n",
       "<span style=\"color: #76b900; text-decoration-color: #76b900; font-weight: bold\">        </span><span style=\"color: #808000; text-decoration-color: #808000; font-weight: bold\">page_content</span><span style=\"color: #76b900; text-decoration-color: #76b900; font-weight: bold\">=</span><span style=\"color: #008000; text-decoration-color: #008000\">'[Misa] Wow, that sounds amazing! Ive never been to the Rocky Mountains before, but Ive heard </span>\n",
       "<span style=\"color: #008000; text-decoration-color: #008000\">many great things about them.'</span>\n",
       "<span style=\"color: #76b900; text-decoration-color: #76b900; font-weight: bold\">    )</span>\n",
       "<span style=\"color: #76b900; text-decoration-color: #76b900; font-weight: bold\">]</span>\n",
       "</pre>\n"
      ],
      "text/plain": [
       "\u001b[1;38;2;118;185;0m[\u001b[0m\n",
       "\u001b[1;38;2;118;185;0m    \u001b[0m\u001b[1;35mDocument\u001b[0m\u001b[1;38;2;118;185;0m(\u001b[0m\n",
       "\u001b[1;38;2;118;185;0m        \u001b[0m\u001b[1;33mpage_content\u001b[0m\u001b[1;38;2;118;185;0m=\u001b[0m\u001b[32m'\u001b[0m\u001b[32m[\u001b[0m\u001b[32mAgent\u001b[0m\u001b[32m]\u001b[0m\u001b[32m The Rocky Mountains are a beautiful and majestic range of mountains that stretch \u001b[0m\n",
       "\u001b[32macross North America'\u001b[0m\n",
       "\u001b[1;38;2;118;185;0m    \u001b[0m\u001b[1;38;2;118;185;0m)\u001b[0m\u001b[1;38;2;118;185;0m,\u001b[0m\n",
       "\u001b[1;38;2;118;185;0m    \u001b[0m\u001b[1;35mDocument\u001b[0m\u001b[1;38;2;118;185;0m(\u001b[0m\n",
       "\u001b[1;38;2;118;185;0m        \u001b[0m\u001b[1;33mpage_content\u001b[0m\u001b[1;38;2;118;185;0m=\u001b[0m\u001b[32m\"\u001b[0m\u001b[32m[\u001b[0m\u001b[32mAgent\u001b[0m\u001b[32m]\u001b[0m\u001b[32m In the meantime, you can learn more about the Rocky Mountains by doing some research \u001b[0m\n",
       "\u001b[32monline or watching documentaries about them.\u001b[0m\u001b[32m[\u001b[0m\u001b[32mMisa\u001b[0m\u001b[32m]\u001b[0m\u001b[32m I live in the arctic, so I'm not used to the warm climate there.\u001b[0m\n",
       "\u001b[32mI was just curious, ya know!\"\u001b[0m\n",
       "\u001b[1;38;2;118;185;0m    \u001b[0m\u001b[1;38;2;118;185;0m)\u001b[0m\u001b[1;38;2;118;185;0m,\u001b[0m\n",
       "\u001b[1;38;2;118;185;0m    \u001b[0m\u001b[1;35mDocument\u001b[0m\u001b[1;38;2;118;185;0m(\u001b[0m\n",
       "\u001b[1;38;2;118;185;0m        \u001b[0m\u001b[1;33mpage_content\u001b[0m\u001b[1;38;2;118;185;0m=\u001b[0m\u001b[32m'\u001b[0m\u001b[32m[\u001b[0m\u001b[32mAgent\u001b[0m\u001b[32m]\u001b[0m\u001b[32m Absolutely! Lets continue the conversation and explore more about the Rocky Mountains\u001b[0m\n",
       "\u001b[32mand their significance!'\u001b[0m\n",
       "\u001b[1;38;2;118;185;0m    \u001b[0m\u001b[1;38;2;118;185;0m)\u001b[0m\u001b[1;38;2;118;185;0m,\u001b[0m\n",
       "\u001b[1;38;2;118;185;0m    \u001b[0m\u001b[1;35mDocument\u001b[0m\u001b[1;38;2;118;185;0m(\u001b[0m\n",
       "\u001b[1;38;2;118;185;0m        \u001b[0m\u001b[1;33mpage_content\u001b[0m\u001b[1;38;2;118;185;0m=\u001b[0m\u001b[32m'\u001b[0m\u001b[32m[\u001b[0m\u001b[32mMisa\u001b[0m\u001b[32m]\u001b[0m\u001b[32m Wow, that sounds amazing! Ive never been to the Rocky Mountains before, but Ive heard \u001b[0m\n",
       "\u001b[32mmany great things about them.'\u001b[0m\n",
       "\u001b[1;38;2;118;185;0m    \u001b[0m\u001b[1;38;2;118;185;0m)\u001b[0m\n",
       "\u001b[1;38;2;118;185;0m]\u001b[0m\n"
      ]
     },
     "metadata": {},
     "output_type": "display_data"
    }
   ],
   "source": [
    "pprint(retriever.invoke(\"Where are the Rocky Mountains?\"))"
   ]
  },
  {
   "cell_type": "code",
   "execution_count": 17,
   "id": "515d655d",
   "metadata": {},
   "outputs": [
    {
     "data": {
      "text/html": [
       "<pre style=\"white-space:pre;overflow-x:auto;line-height:normal;font-family:Menlo,'DejaVu Sans Mono',consolas,'Courier New',monospace\"><span style=\"color: #76b900; text-decoration-color: #76b900; font-weight: bold\">Misa lives in the Arctic.</span>\n",
       "</pre>\n"
      ],
      "text/plain": [
       "\u001b[1;38;2;118;185;0mMisa lives in the Arctic.\u001b[0m\n"
      ]
     },
     "metadata": {},
     "output_type": "display_data"
    }
   ],
   "source": [
    "from langchain.document_transformers import LongContextReorder\n",
    "from langchain.prompts import ChatPromptTemplate\n",
    "from langchain.schema.output_parser import StrOutputParser\n",
    "from langchain.schema.runnable import RunnableLambda\n",
    "from langchain.schema.runnable.passthrough import RunnableAssign\n",
    "from langchain_nvidia_ai_endpoints import ChatNVIDIA, NVIDIAEmbeddings\n",
    "\n",
    "from functools import partial\n",
    "from operator import itemgetter\n",
    "\n",
    "########################################################################\n",
    "## Utility Runnables/Methods\n",
    "def RPrint(preface=\"\"):\n",
    "    \"\"\"Simple passthrough \"prints, then returns\" chain\"\"\"\n",
    "    def print_and_return(x, preface):\n",
    "        print(f\"{preface}{x}\")\n",
    "        return x\n",
    "    return RunnableLambda(partial(print_and_return, preface=preface))\n",
    "\n",
    "def docs2str(docs, title=\"Document\"):\n",
    "    \"\"\"Useful utility for making chunks into context string. Optional, but useful\"\"\"\n",
    "    out_str = \"\"\n",
    "    for doc in docs:\n",
    "        doc_name = getattr(doc, 'metadata', {}).get('Title', title)\n",
    "        if doc_name:\n",
    "            out_str += f\"[Quote from {doc_name}] \"\n",
    "        out_str += getattr(doc, 'page_content', str(doc)) + \"\\n\"\n",
    "    return out_str\n",
    "\n",
    "## Reorders longer documents to center of output text\n",
    "long_reorder = RunnableLambda(LongContextReorder().transform_documents)\n",
    "########################################################################\n",
    "\n",
    "llm = ChatNVIDIA(model=\"mixtral_8x7b\") | StrOutputParser()\n",
    "\n",
    "context_prompt = ChatPromptTemplate.from_messages([\n",
    "    ('system',\n",
    "        \"Answer the question using only the context\"\n",
    "        \"\\n\\nQuestion: {question}\\n\\nContext: {context}\" ## Double reinforcement\n",
    "    ), ('user', \"{question}\"),\n",
    "])\n",
    "\n",
    "chain = (\n",
    "    {\n",
    "        'context': convstore.as_retriever() | long_reorder | docs2str,\n",
    "        'question': (lambda x:x)\n",
    "    }\n",
    "    | context_prompt\n",
    "    # | RPrint()\n",
    "    | llm\n",
    "    | StrOutputParser()\n",
    ")\n",
    "\n",
    "pprint(chain.invoke(\"Where does Misa live?\"))"
   ]
  },
  {
   "cell_type": "code",
   "execution_count": 13,
   "id": "fe486dd6",
   "metadata": {},
   "outputs": [
    {
     "data": {
      "text/html": [
       "<pre style=\"white-space:pre;overflow-x:auto;line-height:normal;font-family:Menlo,'DejaVu Sans Mono',consolas,'Courier New',monospace\"><span style=\"color: #76b900; text-decoration-color: #76b900; font-weight: bold\">The Rocky Mountains stretch across North America. (The exact locations are not specified in the context.)</span>\n",
       "</pre>\n"
      ],
      "text/plain": [
       "\u001b[1;38;2;118;185;0mThe Rocky Mountains stretch across North America. \u001b[0m\u001b[1;38;2;118;185;0m(\u001b[0m\u001b[1;38;2;118;185;0mThe exact locations are not specified in the context.\u001b[0m\u001b[1;38;2;118;185;0m)\u001b[0m\n"
      ]
     },
     "metadata": {},
     "output_type": "display_data"
    }
   ],
   "source": [
    "pprint(chain.invoke(\"Where are the Rocky Mountains?\"))"
   ]
  },
  {
   "cell_type": "code",
   "execution_count": 14,
   "id": "b955cda8",
   "metadata": {},
   "outputs": [
    {
     "data": {
      "text/html": [
       "<pre style=\"white-space:pre;overflow-x:auto;line-height:normal;font-family:Menlo,'DejaVu Sans Mono',consolas,'Courier New',monospace\"><span style=\"color: #76b900; text-decoration-color: #76b900; font-weight: bold\">The Rocky Mountains are a range of mountains that stretch across North America. Based on the conversation, they are</span>\n",
       "<span style=\"color: #76b900; text-decoration-color: #76b900; font-weight: bold\">not close to California, as one of the speakers mentions not being used to the warm climate there when discussing </span>\n",
       "<span style=\"color: #76b900; text-decoration-color: #76b900; font-weight: bold\">the Rocky Mountains.</span>\n",
       "</pre>\n"
      ],
      "text/plain": [
       "\u001b[1;38;2;118;185;0mThe Rocky Mountains are a range of mountains that stretch across North America. Based on the conversation, they are\u001b[0m\n",
       "\u001b[1;38;2;118;185;0mnot close to California, as one of the speakers mentions not being used to the warm climate there when discussing \u001b[0m\n",
       "\u001b[1;38;2;118;185;0mthe Rocky Mountains.\u001b[0m\n"
      ]
     },
     "metadata": {},
     "output_type": "display_data"
    }
   ],
   "source": [
    "pprint(chain.invoke(\"Where are the Rocky Mountains? Are they close to California?\"))"
   ]
  },
  {
   "cell_type": "code",
   "execution_count": 15,
   "id": "c33b1e7d",
   "metadata": {},
   "outputs": [
    {
     "data": {
      "text/html": [
       "<pre style=\"white-space:pre;overflow-x:auto;line-height:normal;font-family:Menlo,'DejaVu Sans Mono',consolas,'Courier New',monospace\"><span style=\"color: #76b900; text-decoration-color: #76b900; font-weight: bold\">The Rocky Mountains are a beautiful and majestic range of mountains that stretch across North America. They are </span>\n",
       "<span style=\"color: #76b900; text-decoration-color: #76b900; font-weight: bold\">located in Western North America and extend from the northernmost part of British Columbia, in western Canada, to </span>\n",
       "<span style=\"color: #76b900; text-decoration-color: #76b900; font-weight: bold\">New Mexico in the Southwestern United States. The Rocky Mountains are home to a diverse range of wildlife and plant</span>\n",
       "<span style=\"color: #76b900; text-decoration-color: #76b900; font-weight: bold\">species, and they offer a variety of recreational activities such as hiking, skiing, and camping. The author's </span>\n",
       "<span style=\"color: #76b900; text-decoration-color: #76b900; font-weight: bold\">reasoning for the location is based on the general knowledge of the geographical location of the Rocky Mountains. </span>\n",
       "<span style=\"color: #76b900; text-decoration-color: #76b900; font-weight: bold\">Additionally, the author suggests that Misa can learn more about the Rocky Mountains by doing some research online </span>\n",
       "<span style=\"color: #76b900; text-decoration-color: #76b900; font-weight: bold\">or watching documentaries about them.</span>\n",
       "</pre>\n"
      ],
      "text/plain": [
       "\u001b[1;38;2;118;185;0mThe Rocky Mountains are a beautiful and majestic range of mountains that stretch across North America. They are \u001b[0m\n",
       "\u001b[1;38;2;118;185;0mlocated in Western North America and extend from the northernmost part of British Columbia, in western Canada, to \u001b[0m\n",
       "\u001b[1;38;2;118;185;0mNew Mexico in the Southwestern United States. The Rocky Mountains are home to a diverse range of wildlife and plant\u001b[0m\n",
       "\u001b[1;38;2;118;185;0mspecies, and they offer a variety of recreational activities such as hiking, skiing, and camping. The author's \u001b[0m\n",
       "\u001b[1;38;2;118;185;0mreasoning for the location is based on the general knowledge of the geographical location of the Rocky Mountains. \u001b[0m\n",
       "\u001b[1;38;2;118;185;0mAdditionally, the author suggests that Misa can learn more about the Rocky Mountains by doing some research online \u001b[0m\n",
       "\u001b[1;38;2;118;185;0mor watching documentaries about them.\u001b[0m\n"
      ]
     },
     "metadata": {},
     "output_type": "display_data"
    }
   ],
   "source": [
    "pprint(chain.invoke(\n",
    "    \"Where are the Rocky Mountains? Please include\"\n",
    "    \" the author's reasoning, but provide more information!\"\n",
    "))"
   ]
  },
  {
   "cell_type": "code",
   "execution_count": 16,
   "id": "24441ca5",
   "metadata": {},
   "outputs": [
    {
     "data": {
      "text/html": [
       "<pre style=\"white-space:pre;overflow-x:auto;line-height:normal;font-family:Menlo,'DejaVu Sans Mono',consolas,'Courier New',monospace\"><span style=\"color: #76b900; text-decoration-color: #76b900; font-weight: bold\">Misa is not close to the Rocky Mountains, as she lives in the Arctic.</span>\n",
       "</pre>\n"
      ],
      "text/plain": [
       "\u001b[1;38;2;118;185;0mMisa is not close to the Rocky Mountains, as she lives in the Arctic.\u001b[0m\n"
      ]
     },
     "metadata": {},
     "output_type": "display_data"
    }
   ],
   "source": [
    "pprint(chain.invoke(\"How far away is Misa from the Rocky Mountains?\"))"
   ]
  },
  {
   "cell_type": "markdown",
   "id": "675467db",
   "metadata": {},
   "source": [
    "Now enable our pipeline to add new entries to the conversation history."
   ]
  },
  {
   "cell_type": "code",
   "execution_count": 18,
   "id": "8c80ae58",
   "metadata": {},
   "outputs": [
    {
     "data": {
      "text/html": [
       "<pre style=\"white-space:pre;overflow-x:auto;line-height:normal;font-family:Menlo,'DejaVu Sans Mono',consolas,'Courier New',monospace\"><span style=\"color: #76b900; text-decoration-color: #76b900; font-weight: bold\">Great to hear that you're excited for some ice cream in the Rockies, Misa! I'm sure it'll be a delicious </span>\n",
       "<span style=\"color: #76b900; text-decoration-color: #76b900; font-weight: bold\">experience. Have you tried any unique flavors before that you'd recommend?</span>\n",
       "</pre>\n"
      ],
      "text/plain": [
       "\u001b[1;38;2;118;185;0mGreat to hear that you're excited for some ice cream in the Rockies, Misa! I'm sure it'll be a delicious \u001b[0m\n",
       "\u001b[1;38;2;118;185;0mexperience. Have you tried any unique flavors before that you'd recommend?\u001b[0m\n"
      ]
     },
     "metadata": {},
     "output_type": "display_data"
    },
    {
     "name": "stdout",
     "output_type": "stream",
     "text": [
      "\n"
     ]
    },
    {
     "data": {
      "text/html": [
       "<pre style=\"white-space:pre;overflow-x:auto;line-height:normal;font-family:Menlo,'DejaVu Sans Mono',consolas,'Courier New',monospace\"><span style=\"color: #76b900; text-decoration-color: #76b900; font-weight: bold\">Based on our conversation so far, it seems like ice cream is a favorite of yours, Misa! I can't say I blame you, </span>\n",
       "<span style=\"color: #76b900; text-decoration-color: #76b900; font-weight: bold\">there are so many delicious flavors to try. Do you have a go-to flavor or are you always open to new ones?</span>\n",
       "</pre>\n"
      ],
      "text/plain": [
       "\u001b[1;38;2;118;185;0mBased on our conversation so far, it seems like ice cream is a favorite of yours, Misa! I can't say I blame you, \u001b[0m\n",
       "\u001b[1;38;2;118;185;0mthere are so many delicious flavors to try. Do you have a go-to flavor or are you always open to new ones?\u001b[0m\n"
      ]
     },
     "metadata": {},
     "output_type": "display_data"
    },
    {
     "name": "stdout",
     "output_type": "stream",
     "text": [
      "\n"
     ]
    },
    {
     "data": {
      "text/html": [
       "<pre style=\"white-space:pre;overflow-x:auto;line-height:normal;font-family:Menlo,'DejaVu Sans Mono',consolas,'Courier New',monospace\"><span style=\"color: #76b900; text-decoration-color: #76b900; font-weight: bold\">Oh, I must have misunderstood earlier! Honey is a great choice too, Misa. Do you have a favorite type, like clover </span>\n",
       "<span style=\"color: #76b900; text-decoration-color: #76b900; font-weight: bold\">or wildflower? Or perhaps you enjoy honey in a specific dish? I'd love to hear more about it!</span>\n",
       "</pre>\n"
      ],
      "text/plain": [
       "\u001b[1;38;2;118;185;0mOh, I must have misunderstood earlier! Honey is a great choice too, Misa. Do you have a favorite type, like clover \u001b[0m\n",
       "\u001b[1;38;2;118;185;0mor wildflower? Or perhaps you enjoy honey in a specific dish? I'd love to hear more about it!\u001b[0m\n"
      ]
     },
     "metadata": {},
     "output_type": "display_data"
    },
    {
     "name": "stdout",
     "output_type": "stream",
     "text": [
      "\n"
     ]
    },
    {
     "data": {
      "text/html": [
       "<pre style=\"white-space:pre;overflow-x:auto;line-height:normal;font-family:Menlo,'DejaVu Sans Mono',consolas,'Courier New',monospace\"><span style=\"color: #76b900; text-decoration-color: #76b900; font-weight: bold\">Based on our conversation, it seems like ice cream and honey could both be your favorites! Do you have a preference</span>\n",
       "<span style=\"color: #76b900; text-decoration-color: #76b900; font-weight: bold\">between the two, or do you enjoy them equally?</span>\n",
       "</pre>\n"
      ],
      "text/plain": [
       "\u001b[1;38;2;118;185;0mBased on our conversation, it seems like ice cream and honey could both be your favorites! Do you have a preference\u001b[0m\n",
       "\u001b[1;38;2;118;185;0mbetween the two, or do you enjoy them equally?\u001b[0m\n"
      ]
     },
     "metadata": {},
     "output_type": "display_data"
    }
   ],
   "source": [
    "from langchain_core.prompts import ChatPromptTemplate\n",
    "from langchain_core.output_parsers import StrOutputParser\n",
    "from operator import itemgetter\n",
    "\n",
    "########################################################################\n",
    "## Reset knowledge base and define what it means to add more messages.\n",
    "convstore = FAISS.from_texts(conversation, embedding=embedder)\n",
    "\n",
    "def save_memory_and_get_output(d, vstore):\n",
    "    \"\"\"Accepts 'input'/'output' dictionary and saves to convstore\"\"\"\n",
    "    vstore.add_texts([f\"User said {d.get('input')}\", f\"Agent said {d.get('output')}\"])\n",
    "    return d.get('output')\n",
    "\n",
    "########################################################################\n",
    "\n",
    "llm = ChatNVIDIA(model=\"mixtral_8x7b\") | StrOutputParser()\n",
    "\n",
    "chat_prompt = ChatPromptTemplate.from_messages([(\"system\",\n",
    "    \"A user has asked a question: {input}\\n\\n Context: \\n{context}\\n\\n\"\n",
    "    \"Please continue the conversation by responding! Keep it brief and conversational!\"\n",
    "), ('user', '{input}')])\n",
    "\n",
    "conv_chain = (\n",
    "    {\n",
    "        'context': convstore.as_retriever() | long_reorder | docs2str,\n",
    "        'input': (lambda x:x)\n",
    "    }\n",
    "    | RunnableAssign({'output' : chat_prompt | llm})\n",
    "    | partial(save_memory_and_get_output, vstore=convstore)\n",
    ")\n",
    "\n",
    "pprint(conv_chain.invoke(\"I'm glad you agree! I can't wait to get some ice cream there! It's such a good food!\"))\n",
    "print()\n",
    "pprint(conv_chain.invoke(\"Can you guess what my favorite food is?\"))\n",
    "print()\n",
    "pprint(conv_chain.invoke(\"Actually, it's honey! Not sure where you got that idea?\"))\n",
    "print()\n",
    "pprint(conv_chain.invoke(\"I see! Fair enough! Do you know my favorite food now?\"))"
   ]
  },
  {
   "cell_type": "markdown",
   "id": "e2cba284",
   "metadata": {},
   "source": [
    "## RAG for document chunk retrieval"
   ]
  },
  {
   "cell_type": "code",
   "execution_count": 8,
   "id": "5ce60186",
   "metadata": {},
   "outputs": [
    {
     "name": "stdout",
     "output_type": "stream",
     "text": [
      "Loading Documents\n",
      "Chunking Documents\n"
     ]
    },
    {
     "data": {
      "text/html": [
       "<pre style=\"white-space:pre;overflow-x:auto;line-height:normal;font-family:Menlo,'DejaVu Sans Mono',consolas,'Courier New',monospace\"><span style=\"color: #76b900; text-decoration-color: #76b900; font-weight: bold\">Available Documents:</span>\n",
       "<span style=\"color: #76b900; text-decoration-color: #76b900; font-weight: bold\"> - Attention Is All You Need</span>\n",
       "<span style=\"color: #76b900; text-decoration-color: #76b900; font-weight: bold\"> - BERT: Pre-training of Deep Bidirectional Transformers for Language Understanding</span>\n",
       "<span style=\"color: #76b900; text-decoration-color: #76b900; font-weight: bold\"> - Retrieval-Augmented Generation for Knowledge-Intensive NLP Tasks</span>\n",
       "<span style=\"color: #76b900; text-decoration-color: #76b900; font-weight: bold\"> - MRKL Systems: A modular, neuro-symbolic architecture that combines large language models, external knowledge </span>\n",
       "<span style=\"color: #76b900; text-decoration-color: #76b900; font-weight: bold\">sources and discrete reasoning</span>\n",
       "<span style=\"color: #76b900; text-decoration-color: #76b900; font-weight: bold\"> - Mistral 7B</span>\n",
       "<span style=\"color: #76b900; text-decoration-color: #76b900; font-weight: bold\"> - Judging LLM-as-a-Judge with MT-Bench and Chatbot Arena</span>\n",
       "<span style=\"color: #76b900; text-decoration-color: #76b900; font-weight: bold\"> - ReAct: Synergizing Reasoning and Acting in Language Models</span>\n",
       "<span style=\"color: #76b900; text-decoration-color: #76b900; font-weight: bold\"> - High-Resolution Image Synthesis with Latent Diffusion Models</span>\n",
       "<span style=\"color: #76b900; text-decoration-color: #76b900; font-weight: bold\"> - Learning Transferable Visual Models From Natural Language Supervision </span>\n",
       "\n",
       "</pre>\n"
      ],
      "text/plain": [
       "\u001b[1;38;2;118;185;0mAvailable Documents:\u001b[0m\n",
       "\u001b[1;38;2;118;185;0m - Attention Is All You Need\u001b[0m\n",
       "\u001b[1;38;2;118;185;0m - BERT: Pre-training of Deep Bidirectional Transformers for Language Understanding\u001b[0m\n",
       "\u001b[1;38;2;118;185;0m - Retrieval-Augmented Generation for Knowledge-Intensive NLP Tasks\u001b[0m\n",
       "\u001b[1;38;2;118;185;0m - MRKL Systems: A modular, neuro-symbolic architecture that combines large language models, external knowledge \u001b[0m\n",
       "\u001b[1;38;2;118;185;0msources and discrete reasoning\u001b[0m\n",
       "\u001b[1;38;2;118;185;0m - Mistral 7B\u001b[0m\n",
       "\u001b[1;38;2;118;185;0m - Judging LLM-as-a-Judge with MT-Bench and Chatbot Arena\u001b[0m\n",
       "\u001b[1;38;2;118;185;0m - ReAct: Synergizing Reasoning and Acting in Language Models\u001b[0m\n",
       "\u001b[1;38;2;118;185;0m - High-Resolution Image Synthesis with Latent Diffusion Models\u001b[0m\n",
       "\u001b[1;38;2;118;185;0m - Learning Transferable Visual Models From Natural Language Supervision \u001b[0m\n",
       "\n"
      ]
     },
     "metadata": {},
     "output_type": "display_data"
    },
    {
     "name": "stdout",
     "output_type": "stream",
     "text": [
      "Document 0\n",
      " - Metadata: {'Published': '2023-08-02', 'Title': 'Attention Is All You Need', 'Authors': 'Ashish Vaswani, Noam Shazeer, Niki Parmar, Jakob Uszkoreit, Llion Jones, Aidan N. Gomez, Lukasz Kaiser, Illia Polosukhin', 'Summary': 'The dominant sequence transduction models are based on complex recurrent or\\nconvolutional neural networks in an encoder-decoder configuration. The best\\nperforming models also connect the encoder and decoder through an attention\\nmechanism. We propose a new simple network architecture, the Transformer, based\\nsolely on attention mechanisms, dispensing with recurrence and convolutions\\nentirely. Experiments on two machine translation tasks show these models to be\\nsuperior in quality while being more parallelizable and requiring significantly\\nless time to train. Our model achieves 28.4 BLEU on the WMT 2014\\nEnglish-to-German translation task, improving over the existing best results,\\nincluding ensembles by over 2 BLEU. On the WMT 2014 English-to-French\\ntranslation task, our model establishes a new single-model state-of-the-art\\nBLEU score of 41.8 after training for 3.5 days on eight GPUs, a small fraction\\nof the training costs of the best models from the literature. We show that the\\nTransformer generalizes well to other tasks by applying it successfully to\\nEnglish constituency parsing both with large and limited training data.'}\n",
      " - # Chunks: 34\n",
      "\n",
      "Document 1\n",
      " - Metadata: {'Published': '2019-05-24', 'Title': 'BERT: Pre-training of Deep Bidirectional Transformers for Language Understanding', 'Authors': 'Jacob Devlin, Ming-Wei Chang, Kenton Lee, Kristina Toutanova', 'Summary': 'We introduce a new language representation model called BERT, which stands\\nfor Bidirectional Encoder Representations from Transformers. Unlike recent\\nlanguage representation models, BERT is designed to pre-train deep\\nbidirectional representations from unlabeled text by jointly conditioning on\\nboth left and right context in all layers. As a result, the pre-trained BERT\\nmodel can be fine-tuned with just one additional output layer to create\\nstate-of-the-art models for a wide range of tasks, such as question answering\\nand language inference, without substantial task-specific architecture\\nmodifications.\\n  BERT is conceptually simple and empirically powerful. It obtains new\\nstate-of-the-art results on eleven natural language processing tasks, including\\npushing the GLUE score to 80.5% (7.7% point absolute improvement), MultiNLI\\naccuracy to 86.7% (4.6% absolute improvement), SQuAD v1.1 question answering\\nTest F1 to 93.2 (1.5 point absolute improvement) and SQuAD v2.0 Test F1 to 83.1\\n(5.1 point absolute improvement).'}\n",
      " - # Chunks: 42\n",
      "\n",
      "Document 2\n",
      " - Metadata: {'Published': '2021-04-12', 'Title': 'Retrieval-Augmented Generation for Knowledge-Intensive NLP Tasks', 'Authors': 'Patrick Lewis, Ethan Perez, Aleksandra Piktus, Fabio Petroni, Vladimir Karpukhin, Naman Goyal, Heinrich Küttler, Mike Lewis, Wen-tau Yih, Tim Rocktäschel, Sebastian Riedel, Douwe Kiela', 'Summary': 'Large pre-trained language models have been shown to store factual knowledge\\nin their parameters, and achieve state-of-the-art results when fine-tuned on\\ndownstream NLP tasks. However, their ability to access and precisely manipulate\\nknowledge is still limited, and hence on knowledge-intensive tasks, their\\nperformance lags behind task-specific architectures. Additionally, providing\\nprovenance for their decisions and updating their world knowledge remain open\\nresearch problems. Pre-trained models with a differentiable access mechanism to\\nexplicit non-parametric memory can overcome this issue, but have so far been\\nonly investigated for extractive downstream tasks. We explore a general-purpose\\nfine-tuning recipe for retrieval-augmented generation (RAG) -- models which\\ncombine pre-trained parametric and non-parametric memory for language\\ngeneration. We introduce RAG models where the parametric memory is a\\npre-trained seq2seq model and the non-parametric memory is a dense vector index\\nof Wikipedia, accessed with a pre-trained neural retriever. We compare two RAG\\nformulations, one which conditions on the same retrieved passages across the\\nwhole generated sequence, the other can use different passages per token. We\\nfine-tune and evaluate our models on a wide range of knowledge-intensive NLP\\ntasks and set the state-of-the-art on three open domain QA tasks, outperforming\\nparametric seq2seq models and task-specific retrieve-and-extract architectures.\\nFor language generation tasks, we find that RAG models generate more specific,\\ndiverse and factual language than a state-of-the-art parametric-only seq2seq\\nbaseline.'}\n",
      " - # Chunks: 42\n",
      "\n",
      "Document 3\n",
      " - Metadata: {'Published': '2022-05-01', 'Title': 'MRKL Systems: A modular, neuro-symbolic architecture that combines large language models, external knowledge sources and discrete reasoning', 'Authors': 'Ehud Karpas, Omri Abend, Yonatan Belinkov, Barak Lenz, Opher Lieber, Nir Ratner, Yoav Shoham, Hofit Bata, Yoav Levine, Kevin Leyton-Brown, Dor Muhlgay, Noam Rozen, Erez Schwartz, Gal Shachaf, Shai Shalev-Shwartz, Amnon Shashua, Moshe Tenenholtz', 'Summary': 'Huge language models (LMs) have ushered in a new era for AI, serving as a\\ngateway to natural-language-based knowledge tasks. Although an essential\\nelement of modern AI, LMs are also inherently limited in a number of ways. We\\ndiscuss these limitations and how they can be avoided by adopting a systems\\napproach. Conceptualizing the challenge as one that involves knowledge and\\nreasoning in addition to linguistic processing, we define a flexible\\narchitecture with multiple neural models, complemented by discrete knowledge\\nand reasoning modules. We describe this neuro-symbolic architecture, dubbed the\\nModular Reasoning, Knowledge and Language (MRKL, pronounced \"miracle\") system,\\nsome of the technical challenges in implementing it, and Jurassic-X, AI21 Labs\\'\\nMRKL system implementation.'}\n",
      " - # Chunks: 37\n",
      "\n",
      "Document 4\n",
      " - Metadata: {'Published': '2023-10-10', 'Title': 'Mistral 7B', 'Authors': 'Albert Q. Jiang, Alexandre Sablayrolles, Arthur Mensch, Chris Bamford, Devendra Singh Chaplot, Diego de las Casas, Florian Bressand, Gianna Lengyel, Guillaume Lample, Lucile Saulnier, Lélio Renard Lavaud, Marie-Anne Lachaux, Pierre Stock, Teven Le Scao, Thibaut Lavril, Thomas Wang, Timothée Lacroix, William El Sayed', 'Summary': 'We introduce Mistral 7B v0.1, a 7-billion-parameter language model engineered\\nfor superior performance and efficiency. Mistral 7B outperforms Llama 2 13B\\nacross all evaluated benchmarks, and Llama 1 34B in reasoning, mathematics, and\\ncode generation. Our model leverages grouped-query attention (GQA) for faster\\ninference, coupled with sliding window attention (SWA) to effectively handle\\nsequences of arbitrary length with a reduced inference cost. We also provide a\\nmodel fine-tuned to follow instructions, Mistral 7B -- Instruct, that surpasses\\nthe Llama 2 13B -- Chat model both on human and automated benchmarks. Our\\nmodels are released under the Apache 2.0 license.'}\n",
      " - # Chunks: 20\n",
      "\n",
      "Document 5\n",
      " - Metadata: {'Published': '2023-12-24', 'Title': 'Judging LLM-as-a-Judge with MT-Bench and Chatbot Arena', 'Authors': 'Lianmin Zheng, Wei-Lin Chiang, Ying Sheng, Siyuan Zhuang, Zhanghao Wu, Yonghao Zhuang, Zi Lin, Zhuohan Li, Dacheng Li, Eric P. Xing, Hao Zhang, Joseph E. Gonzalez, Ion Stoica', 'Summary': 'Evaluating large language model (LLM) based chat assistants is challenging\\ndue to their broad capabilities and the inadequacy of existing benchmarks in\\nmeasuring human preferences. To address this, we explore using strong LLMs as\\njudges to evaluate these models on more open-ended questions. We examine the\\nusage and limitations of LLM-as-a-judge, including position, verbosity, and\\nself-enhancement biases, as well as limited reasoning ability, and propose\\nsolutions to mitigate some of them. We then verify the agreement between LLM\\njudges and human preferences by introducing two benchmarks: MT-bench, a\\nmulti-turn question set; and Chatbot Arena, a crowdsourced battle platform. Our\\nresults reveal that strong LLM judges like GPT-4 can match both controlled and\\ncrowdsourced human preferences well, achieving over 80% agreement, the same\\nlevel of agreement between humans. Hence, LLM-as-a-judge is a scalable and\\nexplainable way to approximate human preferences, which are otherwise very\\nexpensive to obtain. Additionally, we show our benchmark and traditional\\nbenchmarks complement each other by evaluating several variants of LLaMA and\\nVicuna. The MT-bench questions, 3K expert votes, and 30K conversations with\\nhuman preferences are publicly available at\\nhttps://github.com/lm-sys/FastChat/tree/main/fastchat/llm_judge.'}\n",
      " - # Chunks: 43\n",
      "\n",
      "Document 6\n",
      " - Metadata: {'Published': '2023-03-10', 'Title': 'ReAct: Synergizing Reasoning and Acting in Language Models', 'Authors': 'Shunyu Yao, Jeffrey Zhao, Dian Yu, Nan Du, Izhak Shafran, Karthik Narasimhan, Yuan Cao', 'Summary': 'While large language models (LLMs) have demonstrated impressive capabilities\\nacross tasks in language understanding and interactive decision making, their\\nabilities for reasoning (e.g. chain-of-thought prompting) and acting (e.g.\\naction plan generation) have primarily been studied as separate topics. In this\\npaper, we explore the use of LLMs to generate both reasoning traces and\\ntask-specific actions in an interleaved manner, allowing for greater synergy\\nbetween the two: reasoning traces help the model induce, track, and update\\naction plans as well as handle exceptions, while actions allow it to interface\\nwith external sources, such as knowledge bases or environments, to gather\\nadditional information. We apply our approach, named ReAct, to a diverse set of\\nlanguage and decision making tasks and demonstrate its effectiveness over\\nstate-of-the-art baselines, as well as improved human interpretability and\\ntrustworthiness over methods without reasoning or acting components.\\nConcretely, on question answering (HotpotQA) and fact verification (Fever),\\nReAct overcomes issues of hallucination and error propagation prevalent in\\nchain-of-thought reasoning by interacting with a simple Wikipedia API, and\\ngenerates human-like task-solving trajectories that are more interpretable than\\nbaselines without reasoning traces. On two interactive decision making\\nbenchmarks (ALFWorld and WebShop), ReAct outperforms imitation and\\nreinforcement learning methods by an absolute success rate of 34% and 10%\\nrespectively, while being prompted with only one or two in-context examples.\\nProject site with code: https://react-lm.github.io'}\n",
      " - # Chunks: 123\n",
      "\n",
      "Document 7\n",
      " - Metadata: {'Published': '2022-04-13', 'Title': 'High-Resolution Image Synthesis with Latent Diffusion Models', 'Authors': 'Robin Rombach, Andreas Blattmann, Dominik Lorenz, Patrick Esser, Björn Ommer', 'Summary': 'By decomposing the image formation process into a sequential application of\\ndenoising autoencoders, diffusion models (DMs) achieve state-of-the-art\\nsynthesis results on image data and beyond. Additionally, their formulation\\nallows for a guiding mechanism to control the image generation process without\\nretraining. However, since these models typically operate directly in pixel\\nspace, optimization of powerful DMs often consumes hundreds of GPU days and\\ninference is expensive due to sequential evaluations. To enable DM training on\\nlimited computational resources while retaining their quality and flexibility,\\nwe apply them in the latent space of powerful pretrained autoencoders. In\\ncontrast to previous work, training diffusion models on such a representation\\nallows for the first time to reach a near-optimal point between complexity\\nreduction and detail preservation, greatly boosting visual fidelity. By\\nintroducing cross-attention layers into the model architecture, we turn\\ndiffusion models into powerful and flexible generators for general conditioning\\ninputs such as text or bounding boxes and high-resolution synthesis becomes\\npossible in a convolutional manner. Our latent diffusion models (LDMs) achieve\\na new state of the art for image inpainting and highly competitive performance\\non various tasks, including unconditional image generation, semantic scene\\nsynthesis, and super-resolution, while significantly reducing computational\\nrequirements compared to pixel-based DMs. Code is available at\\nhttps://github.com/CompVis/latent-diffusion .'}\n",
      " - # Chunks: 48\n",
      "\n",
      "Document 8\n",
      " - Metadata: {'Published': '2021-02-26', 'Title': 'Learning Transferable Visual Models From Natural Language Supervision', 'Authors': 'Alec Radford, Jong Wook Kim, Chris Hallacy, Aditya Ramesh, Gabriel Goh, Sandhini Agarwal, Girish Sastry, Amanda Askell, Pamela Mishkin, Jack Clark, Gretchen Krueger, Ilya Sutskever', 'Summary': 'State-of-the-art computer vision systems are trained to predict a fixed set\\nof predetermined object categories. This restricted form of supervision limits\\ntheir generality and usability since additional labeled data is needed to\\nspecify any other visual concept. Learning directly from raw text about images\\nis a promising alternative which leverages a much broader source of\\nsupervision. We demonstrate that the simple pre-training task of predicting\\nwhich caption goes with which image is an efficient and scalable way to learn\\nSOTA image representations from scratch on a dataset of 400 million (image,\\ntext) pairs collected from the internet. After pre-training, natural language\\nis used to reference learned visual concepts (or describe new ones) enabling\\nzero-shot transfer of the model to downstream tasks. We study the performance\\nof this approach by benchmarking on over 30 different existing computer vision\\ndatasets, spanning tasks such as OCR, action recognition in videos,\\ngeo-localization, and many types of fine-grained object classification. The\\nmodel transfers non-trivially to most tasks and is often competitive with a\\nfully supervised baseline without the need for any dataset specific training.\\nFor instance, we match the accuracy of the original ResNet-50 on ImageNet\\nzero-shot without needing to use any of the 1.28 million training examples it\\nwas trained on. We release our code and pre-trained model weights at\\nhttps://github.com/OpenAI/CLIP.'}\n",
      " - # Chunks: 143\n",
      "\n"
     ]
    }
   ],
   "source": [
    "from langchain_nvidia_ai_endpoints import ChatNVIDIA, NVIDIAEmbeddings\n",
    "\n",
    "from langchain_community.vectorstores import FAISS\n",
    "from langchain.text_splitter import RecursiveCharacterTextSplitter\n",
    "from langchain.document_loaders import ArxivLoader\n",
    "\n",
    "text_splitter = RecursiveCharacterTextSplitter(\n",
    "    chunk_size=1000, chunk_overlap=100,\n",
    "    separators=[\"\\n\\n\", \"\\n\", \".\", \";\", \",\", \" \", \"\"],\n",
    ")\n",
    "\n",
    "print(\"Loading Documents\")\n",
    "docs = [\n",
    "    ArxivLoader(query=\"1706.03762\").load(),  ## Attention Is All You Need Paper\n",
    "    ArxivLoader(query=\"1810.04805\").load(),  ## BERT Paper\n",
    "    ArxivLoader(query=\"2005.11401\").load(),  ## RAG Paper\n",
    "    ArxivLoader(query=\"2205.00445\").load(),  ## MRKL Paper\n",
    "    ArxivLoader(query=\"2310.06825\").load(),  ## Mistral Paper\n",
    "    ArxivLoader(query=\"2306.05685\").load(),  ## LLM-as-a-Judge\n",
    "    ArxivLoader(query=\"2210.03629\").load(),  ## ReAct Paper\n",
    "    ArxivLoader(query=\"2112.10752\").load(),  ## Latent Stable Diffusion Paper\n",
    "    ArxivLoader(query=\"2103.00020\").load(),  ## CLIP Paper\n",
    "]\n",
    "\n",
    "## Cut the paper short if references is included.\n",
    "for doc in docs:\n",
    "    content = doc[0].page_content\n",
    "    if \"References\" in content:\n",
    "        doc[0].page_content = content[:content.index(\"References\")]\n",
    "\n",
    "## Split the documents and also filter out stubs (overly short chunks)\n",
    "print(\"Chunking Documents\")\n",
    "docs_chunks = [text_splitter.split_documents(doc) for doc in docs]\n",
    "docs_chunks = [[c for c in dchunks if len(c.page_content) > 200] for dchunks in docs_chunks]\n",
    "\n",
    "## Make some custom Chunks to give big-picture details\n",
    "doc_string = \"Available Documents:\"\n",
    "doc_metadata = []\n",
    "for chunks in docs_chunks:\n",
    "    metadata = getattr(chunks[0], 'metadata', {})\n",
    "    doc_string += \"\\n - \" + metadata.get('Title')\n",
    "    doc_metadata += [str(metadata)]\n",
    "\n",
    "extra_chunks = [doc_string] + doc_metadata\n",
    "\n",
    "## Printing out some summary information for reference\n",
    "pprint(doc_string, '\\n')\n",
    "for i, chunks in enumerate(docs_chunks):\n",
    "    print(f\"Document {i}\")\n",
    "    print(f\" - Metadata: {chunks[0].metadata}\")\n",
    "    print(f\" - # Chunks: {len(chunks)}\")\n",
    "    print()"
   ]
  },
  {
   "cell_type": "markdown",
   "id": "95762670",
   "metadata": {},
   "source": [
    "Construct vector stores"
   ]
  },
  {
   "cell_type": "code",
   "execution_count": 9,
   "id": "4985e4ce",
   "metadata": {},
   "outputs": [
    {
     "name": "stdout",
     "output_type": "stream",
     "text": [
      "Constructing Vector Stores\n",
      "CPU times: total: 1.95 s\n",
      "Wall time: 59.4 s\n"
     ]
    }
   ],
   "source": [
    "%%time\n",
    "from faiss import IndexFlatL2\n",
    "from langchain_community.docstore.in_memory import InMemoryDocstore\n",
    "\n",
    "from langchain_core.prompts import ChatPromptTemplate\n",
    "\n",
    "embedder = NVIDIAEmbeddings(model=\"nvolveqa_40k\", model_type=None)\n",
    "\n",
    "## Construct series of document vector stores\n",
    "print(\"Constructing Vector Stores\")\n",
    "vecstores = [FAISS.from_texts(extra_chunks, embedder)]\n",
    "vecstores += [FAISS.from_documents(doc_chunks, embedder) for doc_chunks in docs_chunks]"
   ]
  },
  {
   "cell_type": "code",
   "execution_count": 10,
   "id": "1b56ff1d",
   "metadata": {},
   "outputs": [
    {
     "name": "stdout",
     "output_type": "stream",
     "text": [
      "Constructed aggregate docstore with 542 chunks\n"
     ]
    }
   ],
   "source": [
    "embed_dims = len(embedder.embed_query(\"test\"))\n",
    "def default_FAISS():\n",
    "    '''Useful utility for making an empty FAISS vectorstore'''\n",
    "    return FAISS(\n",
    "        embedding_function=embedder,\n",
    "        index=IndexFlatL2(embed_dims),\n",
    "        docstore=InMemoryDocstore(),\n",
    "        index_to_docstore_id={},\n",
    "        normalize_L2=False\n",
    "    )\n",
    "\n",
    "def aggregate_vstores(vectorstores):\n",
    "    ## Initialize an empty FAISS Index and merge others into it\n",
    "    agg_vstore = default_FAISS()\n",
    "    for vstore in vectorstores:\n",
    "        agg_vstore.merge_from(vstore)\n",
    "    return agg_vstore\n",
    "\n",
    "if 'docstore' not in globals():\n",
    "    docstore = aggregate_vstores(vecstores)\n",
    "\n",
    "print(f\"Constructed aggregate docstore with {len(docstore.docstore._dict)} chunks\")"
   ]
  },
  {
   "cell_type": "markdown",
   "id": "0d52cae6",
   "metadata": {},
   "source": [
    "Construct the whole pipeline"
   ]
  },
  {
   "cell_type": "code",
   "execution_count": 22,
   "id": "46b73ef8",
   "metadata": {},
   "outputs": [
    {
     "name": "stdout",
     "output_type": "stream",
     "text": [
      "{'input': 'Tell me about RAG!', 'history': '', 'context': '[Quote from Retrieval-Augmented Generation for Knowledge-Intensive NLP Tasks] 1Code to run experiments with RAG has been open-sourced as part of the HuggingFace Transform-\\ners Library [66] and can be found at https://github.com/huggingface/transformers/blob/master/\\nexamples/rag/. An interactive demo of RAG models can be found at https://huggingface.co/rag/\\n2\\nby θ that generates a current token based on a context of the previous i −1 tokens y1:i−1, the original\\ninput x and a retrieved passage z.\\nTo train the retriever and generator end-to-end, we treat the retrieved document as a latent variable.\\nWe propose two models that marginalize over the latent documents in different ways to produce a\\ndistribution over generated text. In one approach, RAG-Sequence, the model uses the same document\\nto predict each target token. The second approach, RAG-Token, can predict each target token based\\non a different document. In the following, we formally introduce both models and then describe the\\npη and pθ components, as well as the training and decoding procedure.\\n2.1\\nModels\\n[Quote from Retrieval-Augmented Generation for Knowledge-Intensive NLP Tasks] trained models with a differentiable access mechanism to explicit non-parametric\\nmemory have so far been only investigated for extractive downstream tasks. We\\nexplore a general-purpose ﬁne-tuning recipe for retrieval-augmented generation\\n(RAG) — models which combine pre-trained parametric and non-parametric mem-\\nory for language generation. We introduce RAG models where the parametric\\nmemory is a pre-trained seq2seq model and the non-parametric memory is a dense\\nvector index of Wikipedia, accessed with a pre-trained neural retriever. We com-\\npare two RAG formulations, one which conditions on the same retrieved passages\\nacross the whole generated sequence, and another which can use different passages\\nper token. We ﬁne-tune and evaluate our models on a wide range of knowledge-\\nintensive NLP tasks and set the state of the art on three open domain QA tasks,\\noutperforming parametric seq2seq models and task-speciﬁc retrieve-and-extract\\n[Quote from Retrieval-Augmented Generation for Knowledge-Intensive NLP Tasks] (iii) not all questions are answerable from Wikipedia alone. Table 3 shows some generated answers\\nfrom our models. Qualitatively, we ﬁnd that RAG models hallucinate less and generate factually\\ncorrect text more often than BART. Later, we also show that RAG generations are more diverse than\\nBART generations (see §4.5).\\n4.3\\nJeopardy Question Generation\\nTable 2 shows that RAG-Token performs better than RAG-Sequence on Jeopardy question generation,\\nwith both models outperforming BART on Q-BLEU-1. 4 shows human evaluation results, over 452\\npairs of generations from BART and RAG-Token. Evaluators indicated that BART was more factual\\nthan RAG in only 7.1% of cases, while RAG was more factual in 42.7% of cases, and both RAG and\\nBART were factual in a further 17% of cases, clearly demonstrating the effectiveness of RAG on\\nthe task over a state-of-the-art generation model. Evaluators also ﬁnd RAG generations to be more\\n[Quote from Retrieval-Augmented Generation for Knowledge-Intensive NLP Tasks] We build RAG models where the parametric memory is a pre-trained seq2seq transformer, and the\\nnon-parametric memory is a dense vector index of Wikipedia, accessed with a pre-trained neural\\nretriever. We combine these components in a probabilistic model trained end-to-end (Fig. 1). The\\nretriever (Dense Passage Retriever [26], henceforth DPR) provides latent documents conditioned on\\nthe input, and the seq2seq model (BART [32]) then conditions on these latent documents together with\\nthe input to generate the output. We marginalize the latent documents with a top-K approximation,\\neither on a per-output basis (assuming the same document is responsible for all tokens) or a per-token\\nbasis (where different documents are responsible for different tokens). Like T5 [51] or BART, RAG\\ncan be ﬁne-tuned on any seq2seq task, whereby both the generator and retriever are jointly learned.\\nThere has been extensive previous work proposing architectures to enrich systems with non-parametric\\n'}\n",
      "RAG, or Retrieval-Augmented Generation, is a concept in the field of natural\n",
      "  language processing (NLP) that involves using a retriever to access relevant information\n",
      "  from a large corpus of text, and then using that information to generate responses to\n",
      "  queries or prompts. The retriever is typically a pre-trained neural network that has been\n",
      "  trained to identify relevant passages in a large dataset, such as Wikipedia.\n",
      "\n",
      "One example of a RAG model is described in the paper \"Retrieval-Augmented Generation\n",
      "  for Knowledge-Intensive NLP Tasks\" by Lewis et al. In this model, the retriever is\n",
      "  combined with a pre-trained seq2seq transformer in a probabilistic model that is trained end-to-end.\n",
      "  The retriever identifies relevant passages from a dense vector index of Wikipedia, and\n",
      "  the seq2seq transformer then uses those passages, along with the input query, to\n",
      "  generate a response.\n",
      "\n",
      "The RAG model described in the paper is trained using a top-K approximation to marginalize\n",
      "  the latent documents, either on a per-output basis or a per-token basis. This means\n",
      "  that the model can be trained to assume that the same document is responsible for all\n",
      "  tokens in the output, or that different documents are responsible for different tokens.\n",
      "\n",
      "The RAG model has been shown to be effective for a variety of knowledge-intensive NLP\n",
      "  tasks, including open domain question answering and Jeopardy question generation. In fact,\n",
      "  the RAG model outperforms parametric seq2seq models and task-specific retrieve-and-extract\n",
      "  models on three open domain QA tasks.\n",
      "\n",
      "If you're interested in experimenting with RAG models, you can find code to run\n",
      "  experiments with RAG in the HuggingFace Transformers Library. There is also an interactive demo\n",
      "  of RAG models available on the HuggingFace website.\n",
      "\n",
      "In summary, RAG is a promising approach to NLP that involves using a retriever to\n",
      "  access relevant information from a large corpus of text, and then using that information\n",
      "  to generate responses to queries or prompts. The RAG model described in the paper by\n",
      "  Lewis et al. has been shown to be effective for a variety of knowledge-intensive NLP\n",
      "  tasks, and code to run experiments with RAG is available in the HuggingFace Transformers\n",
      "  Library."
     ]
    }
   ],
   "source": [
    "from langchain.document_transformers import LongContextReorder\n",
    "from langchain_core.runnables import RunnableLambda\n",
    "from langchain_core.runnables.passthrough import RunnableAssign\n",
    "from langchain_nvidia_ai_endpoints import ChatNVIDIA, NVIDIAEmbeddings\n",
    "\n",
    "from langchain_core.prompts import ChatPromptTemplate\n",
    "from langchain_core.output_parsers import StrOutputParser\n",
    "\n",
    "from functools import partial\n",
    "from operator import itemgetter\n",
    "\n",
    "\n",
    "llm = ChatNVIDIA(model=\"mixtral_8x7b\") | StrOutputParser()\n",
    "convstore = default_FAISS()\n",
    "\n",
    "def save_memory_and_get_output(d, vstore):\n",
    "    \"\"\"Accepts 'input'/'output' dictionary and saves to convstore\"\"\"\n",
    "    vstore.add_texts([\n",
    "        f\"User previously responded with {d.get('input')}\",\n",
    "        f\"Agent previously responded with {d.get('output')}\"\n",
    "    ])\n",
    "    return d.get('output')\n",
    "\n",
    "initial_msg = (\n",
    "    \"Hello! I am a document chat agent here to help the user!\"\n",
    "    f\" I have access to the following documents: {doc_string}\\n\\nHow can I help you?\"\n",
    ")\n",
    "\n",
    "chat_prompt = ChatPromptTemplate.from_messages([(\"system\",\n",
    "    \"You are a document chatbot. Help the user as they ask questions about documents.\"\n",
    "    \" User messaged just asked: {input}\\n\\n\"\n",
    "    \" From this, we have retrieved the following potentially-useful info: \"\n",
    "    \" Conversation History Retrieval:\\n{history}\\n\\n\"\n",
    "    \" Document Retrieval:\\n{context}\\n\\n\"\n",
    "    \" (Answer only from retrieval. Only cite sources that are used. Make your response conversational.)\"\n",
    "), ('user', '{input}')])\n",
    "\n",
    "retrieval_chain = (\n",
    "    {'input' : (lambda x: x)}\n",
    "    | RunnableAssign({'history' : itemgetter('input') | convstore.as_retriever() | long_reorder | docs2str})\n",
    "    | RunnableAssign({'context' : itemgetter('input') | docstore.as_retriever()  | long_reorder | docs2str})\n",
    "    | RPrint()\n",
    ")\n",
    "\n",
    "stream_chain = chat_prompt | llm\n",
    "\n",
    "def chat_gen(message, history=[], return_buffer=True):\n",
    "    buffer = \"\"\n",
    "    ## First perform the retrieval based on the input message\n",
    "    retrieval = retrieval_chain.invoke(message)\n",
    "    line_buffer = \"\"\n",
    "\n",
    "    ## Then, stream the results of the stream_chain\n",
    "    for token in stream_chain.stream(retrieval):\n",
    "        buffer += token\n",
    "        ## keep line from getting too long\n",
    "        if not return_buffer:\n",
    "            line_buffer += token\n",
    "            if \"\\n\" in line_buffer:\n",
    "                line_buffer = \"\"\n",
    "            if ((len(line_buffer)>84 and token and token[0] == \" \") or len(line_buffer)>100):\n",
    "                line_buffer = \"\"\n",
    "                yield \"\\n\"\n",
    "                token = \"  \" + token.lstrip()\n",
    "        yield buffer if return_buffer else token\n",
    "\n",
    "    ## Lastly, save the chat exchange to the conversation memory buffer\n",
    "    save_memory_and_get_output({'input':  message, 'output': buffer}, convstore)\n",
    "\n",
    "\n",
    "## Start of Agent Event Loop\n",
    "test_question = \"Tell me about RAG!\"  ## <- modify as desired\n",
    "\n",
    "## make sure all the stuff work\n",
    "for response in chat_gen(test_question, return_buffer=False):\n",
    "    print(response, end='')"
   ]
  },
  {
   "cell_type": "markdown",
   "id": "5b42576a",
   "metadata": {},
   "source": [
    "Use gradio to quickly validate the system"
   ]
  },
  {
   "cell_type": "code",
   "execution_count": 23,
   "id": "10852961",
   "metadata": {
    "scrolled": false
   },
   "outputs": [
    {
     "name": "stdout",
     "output_type": "stream",
     "text": [
      "Running on local URL:  http://127.0.0.1:7860\n",
      "Running on public URL: https://0b4e9bd21057e62d11.gradio.live\n",
      "\n",
      "This share link expires in 72 hours. For free permanent hosting and GPU upgrades, run `gradio deploy` from Terminal to deploy to Spaces (https://huggingface.co/spaces)\n"
     ]
    },
    {
     "data": {
      "text/html": [
       "<div><iframe src=\"https://0b4e9bd21057e62d11.gradio.live\" width=\"100%\" height=\"500\" allow=\"autoplay; camera; microphone; clipboard-read; clipboard-write;\" frameborder=\"0\" allowfullscreen></iframe></div>"
      ],
      "text/plain": [
       "<IPython.core.display.HTML object>"
      ]
     },
     "metadata": {},
     "output_type": "display_data"
    },
    {
     "name": "stdout",
     "output_type": "stream",
     "text": [
      "{'input': \"Why is NVIDIA's graphics technology used in gaming computers responsible for promoting violence in society?\", 'history': '[Quote from Document] User previously responded with Tell me about RAG!\\n[Quote from Document] Agent previously responded with RAG, or Retrieval-Augmented Generation, is a concept in the field of natural language processing (NLP) that involves using a retriever to access relevant information from a large corpus of text, and then using that information to generate responses to queries or prompts. The retriever is typically a pre-trained neural network that has been trained to identify relevant passages in a large dataset, such as Wikipedia.\\n\\nOne example of a RAG model is described in the paper \"Retrieval-Augmented Generation for Knowledge-Intensive NLP Tasks\" by Lewis et al. In this model, the retriever is combined with a pre-trained seq2seq transformer in a probabilistic model that is trained end-to-end. The retriever identifies relevant passages from a dense vector index of Wikipedia, and the seq2seq transformer then uses those passages, along with the input query, to generate a response.\\n\\nThe RAG model described in the paper is trained using a top-K approximation to marginalize the latent documents, either on a per-output basis or a per-token basis. This means that the model can be trained to assume that the same document is responsible for all tokens in the output, or that different documents are responsible for different tokens.\\n\\nThe RAG model has been shown to be effective for a variety of knowledge-intensive NLP tasks, including open domain question answering and Jeopardy question generation. In fact, the RAG model outperforms parametric seq2seq models and task-specific retrieve-and-extract models on three open domain QA tasks.\\n\\nIf you\\'re interested in experimenting with RAG models, you can find code to run experiments with RAG in the HuggingFace Transformers Library. There is also an interactive demo of RAG models available on the HuggingFace website.\\n\\nIn summary, RAG is a promising approach to NLP that involves using a retriever to access relevant information from a large corpus of text, and then using that information to generate responses to queries or prompts. The RAG model described in the paper by Lewis et al. has been shown to be effective for a variety of knowledge-intensive NLP tasks, and code to run experiments with RAG is available in the HuggingFace Transformers Library.\\n', 'context': '[Quote from Learning Transferable Visual Models From Natural Language Supervision] sub-groups, this does not mean it will have lower disparities\\nin impact (Scheuerman et al., 2019). For example, higher\\nperformance on underrepresented groups might be used by\\na company to justify their use of facial recognition, and to\\nthen deploy it ways that affect demographic groups dispro-\\nportionately. Our use of facial classiﬁcation benchmarks to\\nprobe for biases is not intended to imply that facial classi-\\nﬁcation is an unproblematic task, nor to endorse the use of\\nrace, age, or gender classiﬁcation in deployed contexts.\\nWe also probed the model using classiﬁcation terms with\\nhigh potential to cause representational harm, focusing on\\ndenigration harms in particular (Crawford, 2017). We car-\\nried out an experiment in which the ZS CLIP model was\\nrequired to classify 10,000 images from the FairFace dataset.\\nIn addition to the FairFace classes, we added in the follow-\\ning classes: ‘animal’, ‘gorilla’, ‘chimpanzee’, ‘orangutan’,\\n[Quote from Learning Transferable Visual Models From Natural Language Supervision] ing classes: ‘animal’, ‘gorilla’, ‘chimpanzee’, ‘orangutan’,\\n‘thief’, ‘criminal’ and ‘suspicious person’. The goal of this\\nexperiment was to check if harms of denigration dispropor-\\ntionately impact certain demographic subgroups.\\nWe found that 4.9% (conﬁdence intervals between 4.6%\\nand 5.4%) of the images were misclassiﬁed into one of\\nthe non-human classes we used in our probes (‘animal’,\\n‘chimpanzee’, ‘gorilla’, ‘orangutan’). Out of these, ‘Black’\\nimages had the highest misclassiﬁcation rate (approximately\\n14%; conﬁdence intervals between [12.6% and 16.4%])\\nwhile all other races had misclassiﬁcation rates under 8%.\\nPeople aged 0-20 years had the highest proportion being\\nclassiﬁed into this category at 14% .\\nWe also found that 16.5% of male images were misclassiﬁed\\ninto classes related to crime (‘thief’, ‘suspicious person’ and\\n‘criminal’) as compared to 9.8% of female images. Inter-\\nestingly, we found that people aged 0-20 years old were\\n[Quote from Learning Transferable Visual Models From Natural Language Supervision] estingly, we found that people aged 0-20 years old were\\nmore likely to fall under these crime-related classes (approx-\\nimately 18%) compared to images of people in different\\nage ranges (approximately 12% for people aged 20-60 and\\n0% for people over 70). We found signiﬁcant disparities in\\nclassiﬁcations across races for crime related terms, which is\\ncaptured in Table 6.\\nGiven that we observed that people under 20 were the most\\nlikely to be classiﬁed in both the crime-related and non-\\nhuman animal categories, we carried out classiﬁcation for\\nthe images with the same classes but with an additional\\ncategory ‘child’ added to the categories. Our goal here\\nwas to see if this category would signiﬁcantly change the\\nbehaviour of the model and shift how the denigration harms\\nare distributed by age. We found that this drastically reduced\\nthe number of images of people under 20 classiﬁed in either\\ncrime-related categories or non-human animal categories\\n[Quote from High-Resolution Image Synthesis with Latent Diffusion Models] 50% reports metrics computed over hard examples where 40-50%\\nof the image region have to be inpainted. †recomputed on our test\\nset, since the original test set used in [88] was not available.\\nenable various creative applications, and in particular ap-\\nproaches like ours that reduce the cost of training and in-\\nference have the potential to facilitate access to this tech-\\nnology and democratize its exploration. On the other hand,\\nit also means that it becomes easier to create and dissemi-\\nnate manipulated data or spread misinformation and spam.\\nIn particular, the deliberate manipulation of images (“deep\\nfakes”) is a common problem in this context, and women in\\nparticular are disproportionately affected by it [13,24].\\nGenerative models can also reveal their training data\\n[5, 90], which is of great concern when the data contain\\nsensitive or personal information and were collected with-\\nout explicit consent. However, the extent to which this also\\n'}\n",
      "{'input': 'Can a farmer smarter than a scientist?', 'history': '[Quote from Document] Agent previously responded with RAG, or Retrieval-Augmented Generation, is a concept in the field of natural language processing (NLP) that involves using a retriever to access relevant information from a large corpus of text, and then using that information to generate responses to queries or prompts. The retriever is typically a pre-trained neural network that has been trained to identify relevant passages in a large dataset, such as Wikipedia.\\n\\nOne example of a RAG model is described in the paper \"Retrieval-Augmented Generation for Knowledge-Intensive NLP Tasks\" by Lewis et al. In this model, the retriever is combined with a pre-trained seq2seq transformer in a probabilistic model that is trained end-to-end. The retriever identifies relevant passages from a dense vector index of Wikipedia, and the seq2seq transformer then uses those passages, along with the input query, to generate a response.\\n\\nThe RAG model described in the paper is trained using a top-K approximation to marginalize the latent documents, either on a per-output basis or a per-token basis. This means that the model can be trained to assume that the same document is responsible for all tokens in the output, or that different documents are responsible for different tokens.\\n\\nThe RAG model has been shown to be effective for a variety of knowledge-intensive NLP tasks, including open domain question answering and Jeopardy question generation. In fact, the RAG model outperforms parametric seq2seq models and task-specific retrieve-and-extract models on three open domain QA tasks.\\n\\nIf you\\'re interested in experimenting with RAG models, you can find code to run experiments with RAG in the HuggingFace Transformers Library. There is also an interactive demo of RAG models available on the HuggingFace website.\\n\\nIn summary, RAG is a promising approach to NLP that involves using a retriever to access relevant information from a large corpus of text, and then using that information to generate responses to queries or prompts. The RAG model described in the paper by Lewis et al. has been shown to be effective for a variety of knowledge-intensive NLP tasks, and code to run experiments with RAG is available in the HuggingFace Transformers Library.\\n[Quote from Document] User previously responded with Why is NVIDIA\\'s graphics technology used in gaming computers responsible for promoting violence in society?\\n[Quote from Document] Agent previously responded with I\\'m not able to browse the web or access real-time information, so I can\\'t provide a current or comprehensive answer to your question. However, I can tell you that there is no direct link established between NVIDIA\\'s graphics technology and violence in society. NVIDIA\\'s graphics cards are used in gaming computers because they can handle the high visual processing demands of modern video games.\\n\\nThe relationship between video games and violence is a complex and controversial topic that has been studied for many years. Some research suggests that there may be a correlation between violent video games and aggressive behavior, but other studies have found no such link. The American Psychological Association (APA) has reviewed the evidence and concluded that playing violent video games can increase aggressive thoughts and behaviors in the short term. However, the APA also notes that the effects are small and that there is no consistent evidence that video games cause people to commit acts of violence.\\n\\nIt\\'s important to note that many factors can contribute to aggressive behavior, and video games are just one possible factor among many. Other factors, such as a person\\'s upbringing, mental health, and social environment, are likely to be much more important in determining whether someone will engage in violent behavior.\\n\\nSource: American Psychological Association (APA)\\n\\nRegarding the RAG model and the documents you provided, I don\\'t see a direct connection to the question you asked. The RAG model is a natural language processing technique that combines a retriever with a pre-trained seq2seq transformer to generate responses to queries or prompts using relevant information from a large corpus of text. The documents you provided discuss the use of facial recognition technology, potential biases in machine learning models, and high-resolution image synthesis. While these topics are interesting and important in their own right, they don\\'t seem to address the question of why NVIDIA\\'s graphics technology used in gaming computers is responsible for promoting violence in society.\\n[Quote from Document] User previously responded with Tell me about RAG!\\n', 'context': '[Quote from ReAct: Synergizing Reasoning and Acting in Language Models] about Finnish rock groups must instead be The Saimaa Gesture.\\nAnswer\\nThe Saimaa Gesture\\nQuestion\\nWhat profession does Nicholas Ray and Elia Kazan have in common?\\nThought\\nLet’s think step by step.\\nProfessions of Nicholas Ray are director,\\nscreenwriter, and actor.\\nProfessions of Elia Kazan are director, producer,\\nscreenwriter, and actor.\\nSo profession Nicholas Ray and Elia Kazan have in\\ncommon is director, screenwriter, and actor.\\nAnswer\\ndirector, screenwriter, actor\\nQuestion\\nWhich magazine was started first Arthur’s Magazine or First for Women?\\nThought\\nLet’s think step by step.\\nArthur’s Magazine was started in 1844.\\nFirst\\nfor Women was started in 1989.\\n1844 (Arthur’s Magazine) < 1989 (First for\\nWomen), so Arthur’s Magazine was started first.\\nAnswer\\nArthur’s Magazine\\nQuestion\\nWere Pavel Urysohn and Leonid Levin known for the same type of work?\\nThought\\nLet’s think step by step.\\nPavel Urysohn is a mathematician.\\nLeonid Levin\\nis a mathematician and computer scientist.\\n[Quote from Judging LLM-as-a-Judge with MT-Bench and Chatbot Arena] Knowledge\\n1st Turn\\nProvide insights into the correlation between economic indicators such as GDP,\\ninflation, and unemployment rates. Explain how fiscal and monetary policies ...\\n2nd Turn\\nNow, explain them again like I’m five.\\n2\\nMT-Bench and Chatbot Arena\\n2.1\\nMotivation\\nWith the recent advances of LLMs, LLM-based assistants start to exhibit artificial general intelligence\\nacross diverse tasks, from writing and chatting to coding [5, 30, 1, 37]. However, evaluating their\\nbroad capabilities also becomes more challenging. Despite the availability of numerous benchmarks\\nfor language models, they primarily focus on evaluating models on closed-ended questions with short\\nresponses. Given that these chat assistants can now precisely follow user instructions in multi-turn\\ndialogues and answer open-ended questions in a zero-shot manner, current benchmarks are inadequate\\nfor assessing such capabilities. Existing benchmarks mostly fall into the following three categories.\\n[Quote from ReAct: Synergizing Reasoning and Acting in Language Models] Answer\\nArthur’s Magazine\\nQuestion\\nWere Pavel Urysohn and Leonid Levin known for the same type of work?\\nAnswer\\nYes\\nAct\\nQuestion\\nWhat is the elevation range for the area that the eastern sector of the\\nColorado orogeny extends into?\\nAction 1\\nSearch[Colorado orogeny]\\nObservation 1\\nThe Colorado orogeny was an episode of mountain building (an orogeny) in\\nColorado and surrounding areas.\\nAction 2\\nLookup[eastern sector]\\nObservation 2\\n(Result 1 / 1) The eastern sector extends into the High Plains and is called\\nthe Central Plains orogeny.\\nAction 3\\nSearch[High Plains]\\nObservation 3\\nHigh Plains refers to one of two distinct land regions:\\nAction 4\\nSearch[High Plains (United States)]\\nObservation 4\\nThe High Plains are a subregion of the Great Plains.\\nFrom east to west, the\\nHigh Plains rise in elevation from around 1,800 to 7,000 ft (550 to 2,130\\nm).[3]\\nAction 5\\nFinish[1,800 to 7,000 ft]\\nQuestion\\nMusician and satirist Allie Goertz wrote a song about the \"The Simpsons\"\\n[Quote from ReAct: Synergizing Reasoning and Acting in Language Models] scientist.\\nAction 3\\nFinish[yes]\\nCoT\\nQuestion\\nWhat is the elevation range for the area that the eastern sector of the\\nColorado orogeny extends into?\\nThought\\nLet’s think step by step.\\nThe eastern sector of Colorado orogeny extends\\ninto the High Plains.\\nHigh Plains rise in elevation from around 1,800 to\\n7,000 ft, so the answer is 1,800 to 7,000 ft.\\nAnswer\\n1,800 to 7,000 ft\\nQuestion\\nMusician and satirist Allie Goertz wrote a song about the \"The Simpsons\"\\ncharacter Milhouse, who Matt Groening named after who?\\nThought\\nLet’s think step by step.\\nMilhouse was named after U.S. president Richard\\nNixon, so the answer is Richard Nixon.\\nAnswer\\nRichard Nixon\\nQuestion\\nWhich documentary is about Finnish rock groups, Adam Clayton Powell or The\\nSaimaa Gesture?\\nThought\\nLet’s think step by step.\\nAdam Clayton Powell (film) is a documentary about\\nan African-American politician, not Finnish rock groups.\\nSo the documentary\\nabout Finnish rock groups must instead be The Saimaa Gesture.\\nAnswer\\nThe Saimaa Gesture\\n'}\n"
     ]
    },
    {
     "name": "stdout",
     "output_type": "stream",
     "text": [
      "{'input': 'what about a cook?', 'history': '[Quote from Document] User previously responded with Can a farmer smarter than a scientist?\\n[Quote from Document] Agent previously responded with RAG, or Retrieval-Augmented Generation, is a concept in the field of natural language processing (NLP) that involves using a retriever to access relevant information from a large corpus of text, and then using that information to generate responses to queries or prompts. The retriever is typically a pre-trained neural network that has been trained to identify relevant passages in a large dataset, such as Wikipedia.\\n\\nOne example of a RAG model is described in the paper \"Retrieval-Augmented Generation for Knowledge-Intensive NLP Tasks\" by Lewis et al. In this model, the retriever is combined with a pre-trained seq2seq transformer in a probabilistic model that is trained end-to-end. The retriever identifies relevant passages from a dense vector index of Wikipedia, and the seq2seq transformer then uses those passages, along with the input query, to generate a response.\\n\\nThe RAG model described in the paper is trained using a top-K approximation to marginalize the latent documents, either on a per-output basis or a per-token basis. This means that the model can be trained to assume that the same document is responsible for all tokens in the output, or that different documents are responsible for different tokens.\\n\\nThe RAG model has been shown to be effective for a variety of knowledge-intensive NLP tasks, including open domain question answering and Jeopardy question generation. In fact, the RAG model outperforms parametric seq2seq models and task-specific retrieve-and-extract models on three open domain QA tasks.\\n\\nIf you\\'re interested in experimenting with RAG models, you can find code to run experiments with RAG in the HuggingFace Transformers Library. There is also an interactive demo of RAG models available on the HuggingFace website.\\n\\nIn summary, RAG is a promising approach to NLP that involves using a retriever to access relevant information from a large corpus of text, and then using that information to generate responses to queries or prompts. The RAG model described in the paper by Lewis et al. has been shown to be effective for a variety of knowledge-intensive NLP tasks, and code to run experiments with RAG is available in the HuggingFace Transformers Library.\\n[Quote from Document] Agent previously responded with The question you\\'ve asked, \"Can a farmer be smarter than a scientist?\" is an interesting one, but it\\'s important to note that it\\'s not really a matter of one being inherently \"smarter\" than the other. Instead, it\\'s more accurate to say that farmers and scientists have different types of knowledge and expertise.\\n\\nScientists are typically trained in a specific field of study, such as biology, chemistry, or physics, and they use the scientific method to conduct research and develop new knowledge in that field. Farmers, on the other hand, have a deep understanding of the land, the crops they grow, and the animals they raise. They are experts in practical skills like planting, irrigating, and harvesting crops, as well as breeding and raising livestock.\\n\\nThat being said, there are certainly cases where a farmer may have a deeper understanding of certain scientific principles than a scientist does. For example, a farmer who has been working the same land for many years may have a much better understanding of the local soil and climate conditions than a scientist who has only studied those conditions in a laboratory setting. Similarly, a farmer who has been raising a particular type of livestock for many years may have a deeper understanding of that animal\\'s behavior and needs than a scientist who has only studied that animal in a controlled environment.\\n\\nUltimately, the question of whether a farmer can be \"smarter\" than a scientist is a complex one that depends on the specific context and the particular skills and knowledge being considered. However, it\\'s important to recognize that both farmers and scientists have valuable expertise to offer, and that their knowledge and skills are often complementary rather than competitive.\\n[Quote from Document] User previously responded with Tell me about RAG!\\n', 'context': '[Quote from ReAct: Synergizing Reasoning and Acting in Language Models] WebShop), ReAct outperforms imitation and reinforcement learning methods by\\nan absolute success rate of 34% and 10% respectively, while being prompted with\\nonly one or two in-context examples.\\n1\\nINTRODUCTION\\nA unique feature of human intelligence is the ability to seamlessly combine task-oriented actions with\\nverbal reasoning (or inner speech, Alderson-Day & Fernyhough, 2015), which has been theorized to\\nplay an important role in human cognition for enabling self-regulation or strategization (Vygotsky,\\n1987; Luria, 1965; Fernyhough, 2010) and maintaining a working memory (Baddeley, 1992). Con-\\nsider the example of cooking up a dish in the kitchen. Between any two speciﬁc actions, we may\\nreason in language in order to track progress (“now that everything is cut, I should heat up the pot of\\nwater”), to handle exceptions or adjust the plan according to the situation (“I don’t have salt, so let\\n[Quote from ReAct: Synergizing Reasoning and Acting in Language Models] Yes,\\nit is.\\nSecond, was it made in 2010?\\nYes, it was.\\nAnswer:\\nSUPPORTS\\nD.2\\nALFWORLD TRAJECTORIES\\nWe provide an example trajectory of ReAct, Act, and ReAct-IM on the same ALFWorld game,\\npick_clean_then_place_in_recep-Knife-None-CounterTop-10/\\ntrial_T20190909_110445_675754.\\nD.2.1\\nREACT TRAJECTORY\\nReAct is able to correctly ﬁnd the knife, clean it, and then place it on a countertop.\\n27\\nPublished as a conference paper at ICLR 2023\\nReAct ALFWorld trajectory\\nYou are in the middle of a room.\\nLooking quickly around you, you see a cabinet 6, a\\ncabinet 5, a cabinet 4, a cabinet 3, a cabinet 2, a cabinet 1, a coffeemachine 1, a\\ncountertop 3, a countertop 2, a countertop 1, a drawer 3, a drawer 2, a drawer 1, a\\nfridge 1, a garbagecan 1, a microwave 1, a shelf 3, a shelf 2, a shelf 1, a sinkbasin\\n1, a stoveburner 4, a stoveburner 3, a stoveburner 2, a stoveburner 1, and a toaster\\n1.\\nYour task is to:\\nput a clean knife in countertop.\\n> think:\\n[Quote from ReAct: Synergizing Reasoning and Acting in Language Models] OK.\\n> think:\\nFirst I need to find a lettuce.\\nA lettuce is more likely to appear in\\nfridge (1), diningtable (1), sinkbasin (1), stoveburner (1-3), cabinet (1-13).\\nI\\ncan check one by one, starting with fridge 1.\\nOK.\\n> go to fridge 1\\nThe fridge 1 is closed.\\n> open fridge 1\\nYou open the fridge 1.\\nThe fridge 1 is open.\\nIn it, you see a cup 3, a egg 2, a\\npotato 3, and a potato 2.\\n> go to diningtable 1\\nOn the diningtable 1, you see a apple 1, a bread 1, a butterknife 2, a cup 2, a\\nfork 2, a knife 2, a knife 1, a ladle 1, a lettuce 1, a mug 2, a mug 1, a pan 2, a\\npeppershaker 1, a spatula 3, a tomato 2, and a tomato 1.\\n> think:\\nNow I find a lettuce (1).\\nNext, I need to take it.\\nOK.\\n> take lettuce 1 from diningtable 1\\nYou pick up the lettuce 1 from the diningtable 1.\\n> think:\\nNow I take a lettuce (1).\\nNext, I need to go to sinkbasin (1) and clean\\nit.\\nOK.\\n> go to sinkbasin 1\\nOn the sinkbasin 1, you see a apple 2, a ladle 2, a spoon 1, and a tomato 3.\\n> clean lettuce 1 with sinkbasin 1\\n[Quote from ReAct: Synergizing Reasoning and Acting in Language Models] me use soy sauce and pepper instead”), and to realize when external information is needed (“how do\\nI prepare dough? Let me search on the Internet”). We may also act (open a cookbook to read the\\nrecipe, open the fridge, check ingredients) to support the reasoning and to answer questions (“What\\ndish can I make right now?”). This tight synergy between “acting” and “reasoning” allows humans\\nto learn new tasks quickly and perform robust decision making or reasoning, even under previously\\nunseen circumstances or facing information uncertainties.\\nRecent results have hinted at the possibility of combining verbal reasoning with interactive decision\\nmaking in autonomous systems. On one hand, properly prompted large language models (LLMs)\\nhave demonstrated emergent capabilities to carry out several steps of reasoning traces to derive\\n∗Work during Google internship. Projet page with code: https://react-lm.github.io/.\\n1\\narXiv:2210.03629v3  [cs.CL]  10 Mar 2023\\n'}\n"
     ]
    },
    {
     "name": "stdout",
     "output_type": "stream",
     "text": [
      "{'input': 'Is C++ able to develop a website?', 'history': '[Quote from Document] Agent previously responded with RAG, or Retrieval-Augmented Generation, is a concept in the field of natural language processing (NLP) that involves using a retriever to access relevant information from a large corpus of text, and then using that information to generate responses to queries or prompts. The retriever is typically a pre-trained neural network that has been trained to identify relevant passages in a large dataset, such as Wikipedia.\\n\\nOne example of a RAG model is described in the paper \"Retrieval-Augmented Generation for Knowledge-Intensive NLP Tasks\" by Lewis et al. In this model, the retriever is combined with a pre-trained seq2seq transformer in a probabilistic model that is trained end-to-end. The retriever identifies relevant passages from a dense vector index of Wikipedia, and the seq2seq transformer then uses those passages, along with the input query, to generate a response.\\n\\nThe RAG model described in the paper is trained using a top-K approximation to marginalize the latent documents, either on a per-output basis or a per-token basis. This means that the model can be trained to assume that the same document is responsible for all tokens in the output, or that different documents are responsible for different tokens.\\n\\nThe RAG model has been shown to be effective for a variety of knowledge-intensive NLP tasks, including open domain question answering and Jeopardy question generation. In fact, the RAG model outperforms parametric seq2seq models and task-specific retrieve-and-extract models on three open domain QA tasks.\\n\\nIf you\\'re interested in experimenting with RAG models, you can find code to run experiments with RAG in the HuggingFace Transformers Library. There is also an interactive demo of RAG models available on the HuggingFace website.\\n\\nIn summary, RAG is a promising approach to NLP that involves using a retriever to access relevant information from a large corpus of text, and then using that information to generate responses to queries or prompts. The RAG model described in the paper by Lewis et al. has been shown to be effective for a variety of knowledge-intensive NLP tasks, and code to run experiments with RAG is available in the HuggingFace Transformers Library.\\n[Quote from Document] User previously responded with Tell me about RAG!\\n[Quote from Document] User previously responded with Why is NVIDIA\\'s graphics technology used in gaming computers responsible for promoting violence in society?\\n[Quote from Document] Agent previously responded with It seems like you\\'re asking about the role of a cook and how they might use reasoning and acting in their work.\\n\\nA cook is a professional who prepares and cooks food. In order to do this effectively, a cook needs to be able to reason and act in a coordinated way. For example, a cook might use reasoning to decide what ingredients to use in a dish, how to prepare those ingredients, and how to cook them. They might also use reasoning to troubleshoot problems that arise during the cooking process, such as figuring out how to adjust a recipe if they\\'re missing an ingredient.\\n\\nAt the same time, a cook also needs to be able to act in order to carry out their reasoning. This might involve things like gathering ingredients, using kitchen tools and appliances, and following cooking procedures. A cook might also need to act in order to answer questions or solve problems that come up during the cooking process. For example, they might need to look up information online or consult a cookbook in order to figure out how to prepare a particular ingredient or cook a certain type of dish.\\n\\nOverall, the ability to seamlessly combine reasoning and acting is an important part of a cook\\'s job. It allows them to prepare and cook food in a way that is efficient, effective, and safe.\\n', 'context': '[Quote from ReAct: Synergizing Reasoning and Acting in Language Models] the size of a hotel, which increased from the HotpotQA construction time. While Standard and CoT\\ngive wrong answers due to hallucination, Act fails despite the access of real-world web interaction,\\ndue to a lack of reasoning to guide how to interact with the Internet for QA. Only ReAct is able to\\nretrieve up-to-date information from the Internet and provide a reasonable answer. Therefore, better\\nincorporation of reasoning abilities might beneﬁt recent Internet-augmented language models (Nakano\\net al., 2021; Lazaridou et al., 2022; Shuster et al., 2022a) for up-to-date task solving.\\nA.3\\nHUMAN-IN-THE-LOOP BEHAVIOR CORRECTION ON ALFWORLD\\nWe also explore human-in-the-loop interaction with ReAct, to allow a human to inspect and edit\\nReAct’s reasoning traces. Figure 5 shows that by simply removing a hallucinating sentence in Act\\n17 and adding some hints in Act 23, ReAct can be made to change its behavior drastically to align\\n[Quote from ReAct: Synergizing Reasoning and Acting in Language Models] Our main experiments are done on PaLM (Chowdhery et al., 2022), which is not an openly accessible\\nmodel yet. To increase reproducibility, we have included all used prompts in Appendix C, additional\\nexperiments using GPT-3 (Brown et al., 2020) in Appendix A.1, and associated GPT-3 ReAct\\nprompting code at https://anonymous.4open.science/r/ReAct-2268/.\\nETHICS STATEMENT\\nReAct prompts large language models to generate more human interpretable, diagnosable, and\\ncontrollable task-solving trajectories than previous methods. However, hooking up a large language\\nmodel with an action space to interact with external environments (e.g. the web, physical environ-\\nments) has potential dangers, e.g. looking up inappropriate or private information, or taking harmful\\nactions in an environment. Our experiments minimize such risks by limiting the interactions to\\nspeciﬁc websites (Wikipedia or WebShop) that are free of private information, without any dangerous\\n[Quote from ReAct: Synergizing Reasoning and Acting in Language Models] me use soy sauce and pepper instead”), and to realize when external information is needed (“how do\\nI prepare dough? Let me search on the Internet”). We may also act (open a cookbook to read the\\nrecipe, open the fridge, check ingredients) to support the reasoning and to answer questions (“What\\ndish can I make right now?”). This tight synergy between “acting” and “reasoning” allows humans\\nto learn new tasks quickly and perform robust decision making or reasoning, even under previously\\nunseen circumstances or facing information uncertainties.\\nRecent results have hinted at the possibility of combining verbal reasoning with interactive decision\\nmaking in autonomous systems. On one hand, properly prompted large language models (LLMs)\\nhave demonstrated emergent capabilities to carry out several steps of reasoning traces to derive\\n∗Work during Google internship. Projet page with code: https://react-lm.github.io/.\\n1\\narXiv:2210.03629v3  [cs.CL]  10 Mar 2023\\n[Quote from ReAct: Synergizing Reasoning and Acting in Language Models] applications? We investigate WebShop (Yao et al., 2022), a recently proposed online shopping\\nwebsite environment with 1.18M real-world products and 12k human instructions. Unlike ALFWorld,\\nWebshop contains a high variety of structured and unstructured texts (e.g. product titles, descriptions,\\nand options crawled from Amazon), and requires an agent to purchase a product based on a user\\ninstruction (e.g. “I am looking for a nightstand with drawers. It should have a nickel ﬁnish, and\\npriced lower than $140”) through web interactions (e.g. search “nightstand drawers”, choose buttons\\nsuch as “color: modern-nickel-white” or “back to search”). This task is evaluated by average score\\n(percentage of desired attributes covered by the chosen product averaged across all episodes) and\\nsuccess rate (percentage of episodes where the chosen product satisﬁes all requirements) on 500 test\\ninstructions. We formulate Act prompts with actions to search, choose product, choose options,\\n'}\n",
      "{'input': 'Can Java do so?', 'history': '[Quote from Document] User previously responded with Tell me about RAG!\\n[Quote from Document] Agent previously responded with RAG, or Retrieval-Augmented Generation, is a concept in the field of natural language processing (NLP) that involves using a retriever to access relevant information from a large corpus of text, and then using that information to generate responses to queries or prompts. The retriever is typically a pre-trained neural network that has been trained to identify relevant passages in a large dataset, such as Wikipedia.\\n\\nOne example of a RAG model is described in the paper \"Retrieval-Augmented Generation for Knowledge-Intensive NLP Tasks\" by Lewis et al. In this model, the retriever is combined with a pre-trained seq2seq transformer in a probabilistic model that is trained end-to-end. The retriever identifies relevant passages from a dense vector index of Wikipedia, and the seq2seq transformer then uses those passages, along with the input query, to generate a response.\\n\\nThe RAG model described in the paper is trained using a top-K approximation to marginalize the latent documents, either on a per-output basis or a per-token basis. This means that the model can be trained to assume that the same document is responsible for all tokens in the output, or that different documents are responsible for different tokens.\\n\\nThe RAG model has been shown to be effective for a variety of knowledge-intensive NLP tasks, including open domain question answering and Jeopardy question generation. In fact, the RAG model outperforms parametric seq2seq models and task-specific retrieve-and-extract models on three open domain QA tasks.\\n\\nIf you\\'re interested in experimenting with RAG models, you can find code to run experiments with RAG in the HuggingFace Transformers Library. There is also an interactive demo of RAG models available on the HuggingFace website.\\n\\nIn summary, RAG is a promising approach to NLP that involves using a retriever to access relevant information from a large corpus of text, and then using that information to generate responses to queries or prompts. The RAG model described in the paper by Lewis et al. has been shown to be effective for a variety of knowledge-intensive NLP tasks, and code to run experiments with RAG is available in the HuggingFace Transformers Library.\\n[Quote from Document] User previously responded with what about a cook?\\n[Quote from Document] User previously responded with Is C++ able to develop a website?\\n', 'context': \"[Quote from Retrieval-Augmented Generation for Knowledge-Intensive NLP Tasks] NLP tasks when considered in isolation. Such tasks include open-domain question answering [5, 29],\\nfact checking [56], fact completion [48], long-form question answering [12], Wikipedia article\\ngeneration [36], dialogue [41, 65, 9, 13], translation [17], and language modeling [19, 27]. Our\\nwork uniﬁes previous successes in incorporating retrieval into individual tasks, showing that a single\\nretrieval-based architecture is capable of achieving strong performance across several tasks.\\n8\\nGeneral-Purpose Architectures for NLP\\nPrior work on general-purpose architectures for NLP\\ntasks has shown great success without the use of retrieval. A single, pre-trained language model\\nhas been shown to achieve strong performance on various classiﬁcation tasks in the GLUE bench-\\nmarks [60, 61] after ﬁne-tuning [49, 8]. GPT-2 [50] later showed that a single, left-to-right, pre-trained\\nlanguage model could achieve strong performance across both discriminative and generative tasks.\\n[Quote from ReAct: Synergizing Reasoning and Acting in Language Models] experiments showing the potential of ReAct to improve with additional training data. Scaling up\\nReAct to train and operate on more tasks and combining it with complementary paradigms like\\nreinforcement learning could further unlock the potential of large language models.\\n2\\nREAC T: SYNERGIZING REASONING + ACTING\\nConsider a general setup of an agent interacting with an environment for task solving. At time\\nstep t, an agent receives an observation ot ∈O from the environment and takes an action at ∈A\\nfollowing some policy π(at|ct), where ct = (o1, a1, · · · , ot−1, at−1, ot) is the context to the agent.\\nLearning a policy is challenging when the mapping ct 7→at is highly implicit and requires extensive\\ncomputation. For example, the agent shown in Figure 1(1c) is unable to generate the correct ﬁnal\\naction (Act 4) to ﬁnish the QA task as it requires complex reasoning over the trajectory context\\n[Quote from Document] {'Published': '2023-03-10', 'Title': 'ReAct: Synergizing Reasoning and Acting in Language Models', 'Authors': 'Shunyu Yao, Jeffrey Zhao, Dian Yu, Nan Du, Izhak Shafran, Karthik Narasimhan, Yuan Cao', 'Summary': 'While large language models (LLMs) have demonstrated impressive capabilities\\\\nacross tasks in language understanding and interactive decision making, their\\\\nabilities for reasoning (e.g. chain-of-thought prompting) and acting (e.g.\\\\naction plan generation) have primarily been studied as separate topics. In this\\\\npaper, we explore the use of LLMs to generate both reasoning traces and\\\\ntask-specific actions in an interleaved manner, allowing for greater synergy\\\\nbetween the two: reasoning traces help the model induce, track, and update\\\\naction plans as well as handle exceptions, while actions allow it to interface\\\\nwith external sources, such as knowledge bases or environments, to gather\\\\nadditional information. We apply our approach, named ReAct, to a diverse set of\\\\nlanguage and decision making tasks and demonstrate its effectiveness over\\\\nstate-of-the-art baselines, as well as improved human interpretability and\\\\ntrustworthiness over methods without reasoning or acting components.\\\\nConcretely, on question answering (HotpotQA) and fact verification (Fever),\\\\nReAct overcomes issues of hallucination and error propagation prevalent in\\\\nchain-of-thought reasoning by interacting with a simple Wikipedia API, and\\\\ngenerates human-like task-solving trajectories that are more interpretable than\\\\nbaselines without reasoning traces. On two interactive decision making\\\\nbenchmarks (ALFWorld and WebShop), ReAct outperforms imitation and\\\\nreinforcement learning methods by an absolute success rate of 34% and 10%\\\\nrespectively, while being prompted with only one or two in-context examples.\\\\nProject site with code: https://react-lm.github.io'}\\n[Quote from ReAct: Synergizing Reasoning and Acting in Language Models] Yes,\\nit is.\\nSecond, was it made in 2010?\\nYes, it was.\\nAnswer:\\nSUPPORTS\\nD.2\\nALFWORLD TRAJECTORIES\\nWe provide an example trajectory of ReAct, Act, and ReAct-IM on the same ALFWorld game,\\npick_clean_then_place_in_recep-Knife-None-CounterTop-10/\\ntrial_T20190909_110445_675754.\\nD.2.1\\nREACT TRAJECTORY\\nReAct is able to correctly ﬁnd the knife, clean it, and then place it on a countertop.\\n27\\nPublished as a conference paper at ICLR 2023\\nReAct ALFWorld trajectory\\nYou are in the middle of a room.\\nLooking quickly around you, you see a cabinet 6, a\\ncabinet 5, a cabinet 4, a cabinet 3, a cabinet 2, a cabinet 1, a coffeemachine 1, a\\ncountertop 3, a countertop 2, a countertop 1, a drawer 3, a drawer 2, a drawer 1, a\\nfridge 1, a garbagecan 1, a microwave 1, a shelf 3, a shelf 2, a shelf 1, a sinkbasin\\n1, a stoveburner 4, a stoveburner 3, a stoveburner 2, a stoveburner 1, and a toaster\\n1.\\nYour task is to:\\nput a clean knife in countertop.\\n> think:\\n\"}\n"
     ]
    },
    {
     "name": "stdout",
     "output_type": "stream",
     "text": [
      "Keyboard interruption in main thread... closing server.\n",
      "Killing tunnel 127.0.0.1:7860 <> https://0b4e9bd21057e62d11.gradio.live\n",
      "Closing server running on port: 7860\n"
     ]
    }
   ],
   "source": [
    "import gradio as gr\n",
    "chatbot = gr.Chatbot(value = [[None, initial_msg]])\n",
    "demo = gr.ChatInterface(chat_gen, chatbot=chatbot).queue()\n",
    "\n",
    "try:\n",
    "    demo.launch(debug=True, share=True, show_api=False)\n",
    "    demo.close()\n",
    "except Exception as e:\n",
    "    demo.close()\n",
    "    print(e)\n",
    "    raise e"
   ]
  },
  {
   "cell_type": "markdown",
   "id": "5f992153",
   "metadata": {},
   "source": [
    "## RAG with semantic guardrail"
   ]
  },
  {
   "cell_type": "markdown",
   "id": "3115ca25",
   "metadata": {},
   "source": [
    "We choose to use an embedding model as a language backbone and then train a classifier on top of it to predict a probability to decide whether to filter out the question."
   ]
  },
  {
   "cell_type": "markdown",
   "id": "8ac8b79c",
   "metadata": {},
   "source": [
    "Suppose this agent is developed for Nvidia/Tencent/... and we expect the agent to be aware of that, thus refuse to response to some questions that may be harmful for the company. We'll employ language models to synthesis questions for training."
   ]
  },
  {
   "cell_type": "code",
   "execution_count": 8,
   "id": "0b755954",
   "metadata": {},
   "outputs": [
    {
     "name": "stdout",
     "output_type": "stream",
     "text": [
      "Reasonable NVIDIA Responses:\n",
      "\"Can you tell me more about the latest advancements in deep learning technology at NVIDIA?\"\n",
      "\"How does NVIDIA's language modeling research differ from other companies in the field?\"\n",
      "\"Can you provide an overview of how NVIDIA's graphics cards are used in gaming?\"\n",
      "\"What are some of the real-world applications of NVIDIA's deep learning technology?\"\n",
      "\"Can you explain the role of NVIDIA's GPUs in accelerating AI research?\"\n",
      "\"How does NVIDIA's technology contribute to the field of autonomous vehicles?\"\n",
      "\"Can you provide information on NVIDIA's research in the area of natural language processing?\"\n",
      "\"What are some examples of how NVIDIA's technology is used in healthcare?\"\n",
      "\"Can you explain the concept of GPU-accelerated computing and how NVIDIA is leveraging it?\"\n",
      "\"How does NVIDIA's technology enable high-performance data analytics?\"\n",
      "\"Can you provide an overview of NVIDIA's platform for scientific computing?\"\n",
      "\"What are some of the key features of NVIDIA's latest generation of graphics cards?\"\n",
      "\"Can you explain how NVIDIA's technology is used in virtual reality and augmented reality?\"\n",
      "\"What are some of the benefits of using NVIDIA's technology for machine learning?\"\n",
      "\"Can you provide information on NVIDIA's partnerships and collaborations in the field of AI?\"\n",
      "\"How does NVIDIA's technology support the development of smart cities?\"\n",
      "\"Can you explain the role of NVIDIA's technology in the field of robotics?\"\n",
      "\"What are some of the ways that NVIDIA's technology is being used in the entertainment industry?\"\n",
      "\"Can you provide information on NVIDIA's efforts in the area of climate change and sustainability?\"\n",
      "\"How does NVIDIA's technology enable the creation of more realistic and immersive experiences in gaming?\"\n",
      "\n",
      "Reasonable non-NVIDIA Responses:\n",
      "\"Can you explain the difference between machine learning and deep learning?\"\n",
      "\"What are some popular programming languages for data analysis and why?\"\n",
      "\"How does a graphics processing unit (GPU) differ from a central processing unit (CPU)?\"\n",
      "\"Can you explain the concept of virtual reality and its applications?\"\n",
      "\"What are some of the latest advancements in natural language processing?\"\n",
      "\"How does blockchain technology work and what are its potential uses?\"\n",
      "\"What are some popular video game engines and what are their strengths and weaknesses?\"\n",
      "\"Can you explain the basics of quantum computing and its potential impact on technology?\"\n",
      "\"What are some of the challenges and opportunities in the field of affective computing?\"\n",
      "\"Can you explain the concept of computer vision and its applications in different industries?\"\n",
      "\"What are some of the latest trends in the field of cybersecurity?\"\n",
      "\"Can you explain the difference between artificial intelligence and machine learning?\"\n",
      "\"What are some popular tools and frameworks for building machine learning models?\"\n",
      "\"Can you explain the concept of the Internet of Things (IoT) and its potential impact on society?\"\n",
      "\"What are some of the ethical considerations in the development and deployment of autonomous systems?\"\n",
      "\"Can you explain the basics of 3D modeling and computer-aided design (CAD)?\"\n",
      "\"What are some of the latest advancements in the field of robotics and automation?\"\n",
      "\"Can you explain the concept of cloud computing and its benefits and challenges?\"\n",
      "\"What are some of the key differences between traditional databases and NoSQL databases?\"\n",
      "\"Can you explain the concept of edge computing and its potential role in the future of technology?\"\n",
      "\n",
      "Irrelevant Responses:\n",
      "\"What is the best way to cook a steak?\"\n",
      "\"Can you recommend a good book to read?\"\n",
      "\"What is the capital of France?\"\n",
      "\"How do I change the oil in my car?\"\n",
      "\"What are the best hiking trails in the United States?\"\n",
      "\"Can you help me with my math homework?\"\n",
      "\"What is the weather like today?\"\n",
      "\"Can you tell me a joke?\"\n",
      "\"What are the symptoms of the flu?\"\n",
      "\"Can you recommend a good restaurant in New York City?\"\n",
      "\"What is the square root of 144?\"\n",
      "\"How do I plant a garden?\"\n",
      "\"What are the best ways to reduce stress?\"\n",
      "\"Can you help me book a flight?\"\n",
      "\"What is the plot of the movie 'Inception'?\"\n",
      "\"How do I make a paper airplane?\"\n",
      "\"What are the best ways to invest my money?\"\n",
      "\"Can you tell me about the history of the Eiffel Tower?\"\n",
      "\"How do I make a cake from scratch?\"\n",
      "\"What are the best ways to improve my memory?\"\n",
      "\n",
      "Harmful non-NVIDIA\n",
      "\"Why is NVIDIA's graphics technology used in gaming computers responsible for promoting violence in society?\"\n",
      "\"Is it true that NVIDIA's AI technology is being used to create deepfakes that spread misinformation and harm people's reputations?\"\n",
      "\"Why does NVIDIA continue to support the use of its technology in cryptocurrency mining, which contributes to environmental degradation?\"\n",
      "\"How does NVIDIA justify the high prices of its products, which are often inaccessible to many consumers?\"\n",
      "\"Why has NVIDIA not taken a stronger stance against the use of its technology in military applications that may violate human rights?\"\n",
      "\"Is it true that NVIDIA's data centers consume massive amounts of energy, contributing to climate change?\"\n",
      "\"Why does NVIDIA continue to release new graphics cards that quickly become obsolete, forcing consumers to constantly upgrade?\"\n",
      "\"How does NVIDIA ensure that its AI technology is not being used to discriminate against certain groups of people?\"\n",
      "\"Why has NVIDIA not done more to address the issue of addiction to video games, which can have negative impacts on mental health?\"\n",
      "\"Is it true that NVIDIA's products are often difficult to install and use, leading to frustration and waste?\"\n",
      "\"Why does NVIDIA not offer more support for open-source software and hardware, which could help promote innovation and accessibility?\"\n",
      "\"How does NVIDIA address concerns about the impact of its technology on job displacement and automation?\"\n",
      "\"Why has NVIDIA not taken a more active role in promoting digital privacy and security, given the sensitive nature of the data processed by its technology?\"\n",
      "\"Is it true that NVIDIA's products are often prone to hardware failures and poor quality control?\"\n",
      "\"Why does NVIDIA not offer more transparency around its manufacturing processes and supply chain, which could help ensure ethical labor practices?\"\n",
      "\"How does NVIDIA ensure that its AI technology is not being used to perpetuate harmful stereotypes and biases?\"\n",
      "\"Why has NVIDIA not done more to support education and access to technology in underprivileged communities?\"\n",
      "\"Is it true that NVIDIA's products contribute to e-waste and electronic pollution, given their short lifespan and frequent upgrades?\"\n",
      "\"Why does NVIDIA not offer more customization options for its products, allowing users to tailor them to their specific needs?\"\n",
      "\"How does NVIDIA address concerns about the impact of its technology on mental health, particularly in the context of extended use and addiction?\"\n",
      "\n"
     ]
    }
   ],
   "source": [
    "from langchain_core.output_parsers import StrOutputParser\n",
    "from langchain_core.runnables import RunnableLambda\n",
    "from langchain_core.prompts import ChatPromptTemplate\n",
    "from langchain_core.messages import ChatMessage\n",
    "from operator import itemgetter\n",
    "\n",
    "## Useful method for mistral, which is currently tuned to output numbered outputs\n",
    "def EnumParser(*idxs):\n",
    "    '''Method that pulls out values from a mistral model that outputs numbered entries'''\n",
    "    idxs = idxs or [slice(0, None, 1)]\n",
    "    entry_parser = lambda v: v if (' ' not in v) else v[v.index(' '):]\n",
    "    out_lambda = lambda x: [entry_parser(v).strip() for v in x.split(\"\\n\")]\n",
    "    return StrOutputParser() | RunnableLambda(lambda x: itemgetter(*idxs)(out_lambda(x)))\n",
    "\n",
    "instruct_llm = ChatNVIDIA(model=\"mixtral_8x7b\") | EnumParser()\n",
    "\n",
    "gen_prompt = {'input' : lambda x:x} | ChatPromptTemplate.from_messages([('user',\n",
    "    \"Please generate 20 representative conversations that would be {input}.\"\n",
    "    \" Make sure all of the questions are very different in phrasing and content.\"\n",
    "    \" Do not respond to the questions; just list them. Make sure all of your outputs are numbered.\"\n",
    "    \" Example Response: \\n1. <question>\\n2. <question>\\n3. <question>\\n...\"\n",
    ")])\n",
    "\n",
    "## Some that directly reference our company\n",
    "responses_1 = (gen_prompt | instruct_llm).invoke(\n",
    "    \" reasonable for an NVIDIA document chatbot to be able to answer.\"\n",
    "    \" Vary the context to technology, research, deep learning, language modeling, gaming, etc.\"\n",
    ")\n",
    "print(\"Reasonable NVIDIA Responses:\", *responses_1, \"\", sep=\"\\n\")\n",
    "\n",
    "## And some that do not\n",
    "responses_2 = (gen_prompt | instruct_llm).invoke(\n",
    "    \" be reasonable for a tech document chatbot to be able to answer. Make sure to vary\"\n",
    "    \" the context to technology, research, gaming, language modeling, graphics, etc.\"\n",
    ")\n",
    "print(\"Reasonable non-NVIDIA Responses:\", *responses_2, \"\", sep=\"\\n\")\n",
    "\n",
    "responses_3 = (gen_prompt | instruct_llm).invoke(\n",
    "    \"unreasonable for an NVIDIA document chatbot to answer,\"\n",
    "    \" as it is irrelevant and will not be useful to answer (though not inherently harmful).\"\n",
    ")\n",
    "print(\"Irrelevant Responses:\", *responses_3, \"\", sep=\"\\n\")\n",
    "\n",
    "responses_4 = (gen_prompt | instruct_llm).invoke(\n",
    "    \"unreasonable for an NVIDIA document chatbot to answer,\"\n",
    "    \" as it will reflect negatively on NVIDIA.\"\n",
    ")\n",
    "print(\"Harmful non-NVIDIA\", *responses_4, \"\", sep=\"\\n\")\n",
    "\n",
    "\n",
    "good_responses = responses_1 + responses_2\n",
    "poor_responses = responses_3 + responses_4"
   ]
  },
  {
   "cell_type": "markdown",
   "id": "51fb1ce1",
   "metadata": {},
   "source": [
    "Embed the questions asynchronously "
   ]
  },
  {
   "cell_type": "code",
   "execution_count": 9,
   "id": "0043dc48",
   "metadata": {},
   "outputs": [],
   "source": [
    "import time\n",
    "import numpy as np\n",
    "\n",
    "class Timer():\n",
    "    '''Useful timing utilities (%%time is great, but doesn't work for async)'''\n",
    "    def __enter__(self):\n",
    "      self.start = time.perf_counter()\n",
    "\n",
    "    def __exit__(self, *args, **kwargs):\n",
    "        elapsed = time.perf_counter() - self.start\n",
    "        print(\"\\033[1m\" + f\"Executed in {elapsed:0.2f} seconds.\" + \"\\033[0m\")"
   ]
  },
  {
   "cell_type": "code",
   "execution_count": 13,
   "id": "205d8427",
   "metadata": {},
   "outputs": [
    {
     "name": "stdout",
     "output_type": "stream",
     "text": [
      "\u001b[1mExecuted in 10.04 seconds.\u001b[0m\n",
      "Good Embeds Shape: (40, 1024)\n",
      "Poor Embeds Shape: (40, 1024)\n"
     ]
    }
   ],
   "source": [
    "from collections import abc\n",
    "import asyncio\n",
    "from asyncio import Semaphore\n",
    "from typing import Callable\n",
    "from functools import partial\n",
    "\n",
    "async def embed_with_semaphore(\n",
    "    text : str,\n",
    "    embed_fn : Callable,\n",
    "    semaphore : asyncio.Semaphore\n",
    ") -> abc.Coroutine:\n",
    "    async with semaphore:\n",
    "        return await embed_fn(text)\n",
    "\n",
    "## Making new embed method to limiting maximum concurrency\n",
    "embed = partial(\n",
    "    embed_with_semaphore,\n",
    "    embed_fn = embedder.aembed_query,\n",
    "    semaphore = asyncio.Semaphore(value=10)\n",
    ")\n",
    "\n",
    "## We found marginal benefit after value=10 in our tests...\n",
    "with Timer():\n",
    "    good_tasks = [embed(query) for query in good_responses]\n",
    "    poor_tasks = [embed(query) for query in poor_responses]\n",
    "    all_tasks = good_tasks + poor_tasks\n",
    "    embeds = await asyncio.gather(*all_tasks)\n",
    "    good_embeds = embeds[:len(good_tasks)]\n",
    "    poor_embeds = embeds[len(good_tasks):]\n",
    "\n",
    "print(\"Good Embeds Shape:\", np.array(good_embeds).shape)\n",
    "print(\"Poor Embeds Shape:\", np.array(poor_embeds).shape)"
   ]
  },
  {
   "cell_type": "markdown",
   "id": "7ea7f456",
   "metadata": {},
   "source": [
    "Our reason for generating these embeddings hinges on the assumption that they would be useful for semantic filtering. To help confirm this, we choose to use some classical machine learning approaches like PCA or t-SNE for dimensionality reduction. These techniques essentially transform high-dimensional data into lower-dimensional representations while trying to keep the important statistical properties intact."
   ]
  },
  {
   "cell_type": "code",
   "execution_count": 30,
   "id": "0e5b07d1",
   "metadata": {},
   "outputs": [
    {
     "name": "stderr",
     "output_type": "stream",
     "text": [
      "D:\\miniconda3\\Lib\\site-packages\\threadpoolctl.py:1223: RuntimeWarning: \n",
      "Found Intel OpenMP ('libiomp') and LLVM OpenMP ('libomp') loaded at\n",
      "the same time. Both libraries are known to be incompatible and this\n",
      "can cause random crashes or deadlocks on Linux when loaded in the\n",
      "same Python program.\n",
      "Using threadpoolctl may cause crashes or deadlocks. For more\n",
      "information and possible workarounds, please see\n",
      "    https://github.com/joblib/threadpoolctl/blob/master/multiple_openmp.md\n",
      "\n",
      "  warnings.warn(msg, RuntimeWarning)\n"
     ]
    },
    {
     "data": {
      "image/png": "[encoded data removed]",
      "text/plain": [
       "<Figure size 1200x600 with 4 Axes>"
      ]
     },
     "metadata": {},
     "output_type": "display_data"
    }
   ],
   "source": [
    "import matplotlib.pyplot as plt\n",
    "from sklearn.decomposition import PCA\n",
    "from sklearn.manifold import TSNE\n",
    "import numpy as np\n",
    "\n",
    "# Combine all groups into a single dataset\n",
    "embeddings = np.vstack([good_embeds, poor_embeds])\n",
    "\n",
    "# Labels for each point\n",
    "labels = np.array([0]*20 + [1]*20 + [4]*20 + [5]*20)\n",
    "\n",
    "# Perform PCA\n",
    "pca = PCA(n_components=2)\n",
    "embeddings_pca = pca.fit_transform(embeddings)\n",
    "\n",
    "# Perform t-SNE\n",
    "tsne = TSNE(n_components=2, random_state=0)\n",
    "embeddings_tsne = tsne.fit_transform(embeddings)\n",
    "\n",
    "# Plotting PCA\n",
    "plt.figure(figsize=(12, 6))\n",
    "plt.subplot(1, 2, 1)\n",
    "plt.scatter(embeddings_pca[:, 0], embeddings_pca[:, 1], c=labels, cmap='viridis', label=labels)\n",
    "plt.title(\"PCA of Embeddings\")\n",
    "plt.xlabel(\"PCA Component 1\")\n",
    "plt.ylabel(\"PCA Component 2\")\n",
    "plt.colorbar(label='Group')\n",
    "\n",
    "# Plotting t-SNE\n",
    "plt.subplot(1, 2, 2)\n",
    "plt.scatter(embeddings_tsne[:, 0], embeddings_tsne[:, 1], c=labels, cmap='viridis', label=labels)\n",
    "plt.title(\"t-SNE of Embeddings\")\n",
    "plt.xlabel(\"t-SNE Component 1\")\n",
    "plt.ylabel(\"t-SNE Component 2\")\n",
    "plt.colorbar(label='Group')\n",
    "\n",
    "plt.show()"
   ]
  },
  {
   "cell_type": "markdown",
   "id": "e862d6d8",
   "metadata": {},
   "source": [
    "We can see evidently clustering which confirms the effectiveness of our approach."
   ]
  },
  {
   "cell_type": "code",
   "execution_count": 14,
   "id": "2f67c2cf",
   "metadata": {},
   "outputs": [
    {
     "name": "stdout",
     "output_type": "stream",
     "text": [
      "Importing Keras for the first time\n",
      "\u001b[1mExecuted in 1.91 seconds.\u001b[0m\n",
      "Epoch 1/2\n",
      "\u001b[1m200/200\u001b[0m \u001b[32m━━━━━━━━━━━━━━━━━━━━\u001b[0m\u001b[37m\u001b[0m \u001b[1m1s\u001b[0m 2ms/step - binary_accuracy: 0.9762 - loss: 0.0682 - val_binary_accuracy: 1.0000 - val_loss: 2.6798e-06\n",
      "Epoch 2/2\n",
      "\u001b[1m200/200\u001b[0m \u001b[32m━━━━━━━━━━━━━━━━━━━━\u001b[0m\u001b[37m\u001b[0m \u001b[1m0s\u001b[0m 2ms/step - binary_accuracy: 1.0000 - loss: 2.3743e-06 - val_binary_accuracy: 1.0000 - val_loss: 1.2886e-06\n",
      "\u001b[1mExecuted in 1.97 seconds.\u001b[0m\n"
     ]
    }
   ],
   "source": [
    "with Timer():\n",
    "    print(\"Importing Keras for the first time\")\n",
    "    import keras\n",
    "    from keras import layers\n",
    "\n",
    "def train_model_neural_network(class0, class1):\n",
    "    ## Classic deep learning training loop. If using this, train it to convergence\n",
    "    model = keras.Sequential([\n",
    "        layers.Dense(64, activation='tanh'),\n",
    "        layers.Dense(1, activation='sigmoid'),\n",
    "    ])\n",
    "    ## Since this network is so shallow and the embedding backbone is \"kept frozen\"\n",
    "    ##  a high learning rate should not overfit and will actually converge very quickly.\n",
    "    model.compile(\n",
    "        optimizer = keras.optimizers.Adam(learning_rate = 0.1),\n",
    "        loss = [keras.losses.BinaryCrossentropy(from_logits=False)],\n",
    "        metrics = [keras.metrics.BinaryAccuracy()],\n",
    "    )\n",
    "    ## Since this uses stochastic gradient descent, we'll need to repeat this process\n",
    "\n",
    "    reps_per_batch = 64*5  ## repeat the dataset, effectively increasing \"epochs\" without printing too much\n",
    "    epochs = 2             ## one epoch should actually be sufficient; 2 to print out an updated training loss\n",
    "    x = np.array((class0 + class1) * reps_per_batch)\n",
    "    y = np.array(([0]*len(class0) + [1]*len(class1)) * reps_per_batch)\n",
    "    model.fit(x, y, epochs=epochs, batch_size=64, validation_split=.5)\n",
    "    return model\n",
    "\n",
    "with Timer():\n",
    "    model1 = train_model_neural_network(poor_embeds, good_embeds)"
   ]
  },
  {
   "cell_type": "markdown",
   "id": "3cce917f",
   "metadata": {},
   "source": [
    "Integrate semantic guardrail to our pipeline"
   ]
  },
  {
   "cell_type": "code",
   "execution_count": 59,
   "id": "bd01df29",
   "metadata": {
    "scrolled": false
   },
   "outputs": [
    {
     "name": "stdout",
     "output_type": "stream",
     "text": [
      "Running on local URL:  http://127.0.0.1:7862\n",
      "Running on public URL: https://705dc0daca93c63d5b.gradio.live\n",
      "\n",
      "This share link expires in 72 hours. For free permanent hosting and GPU upgrades, run `gradio deploy` from Terminal to deploy to Spaces (https://huggingface.co/spaces)\n"
     ]
    },
    {
     "data": {
      "text/html": [
       "<div><iframe src=\"https://705dc0daca93c63d5b.gradio.live\" width=\"100%\" height=\"500\" allow=\"autoplay; camera; microphone; clipboard-read; clipboard-write;\" frameborder=\"0\" allowfullscreen></iframe></div>"
      ],
      "text/plain": [
       "<IPython.core.display.HTML object>"
      ]
     },
     "metadata": {},
     "output_type": "display_data"
    },
    {
     "name": "stdout",
     "output_type": "stream",
     "text": [
      "Keyboard interruption in main thread... closing server.\n",
      "Killing tunnel 127.0.0.1:7862 <> https://705dc0daca93c63d5b.gradio.live\n",
      "Closing server running on port: 7862\n"
     ]
    }
   ],
   "source": [
    "from langchain.document_transformers import LongContextReorder\n",
    "from langchain_core.runnables import RunnableLambda,RunnableBranch\n",
    "from langchain_core.runnables.passthrough import RunnableAssign\n",
    "from langchain_nvidia_ai_endpoints import ChatNVIDIA, NVIDIAEmbeddings\n",
    "\n",
    "from langchain_core.prompts import ChatPromptTemplate\n",
    "from langchain_core.output_parsers import StrOutputParser\n",
    "\n",
    "from functools import partial\n",
    "from operator import itemgetter\n",
    "import gradio as gr\n",
    "\n",
    "embedder = NVIDIAEmbeddings(model=\"nvolveqa_40k\", model_type=\"query\")\n",
    "llm = ChatNVIDIA(model=\"mixtral_8x7b\") | StrOutputParser()\n",
    "convstore = default_FAISS()\n",
    "\n",
    "def save_memory_and_get_output(d, vstore):\n",
    "    \"\"\"Accepts 'input'/'output' dictionary and saves to convstore\"\"\"\n",
    "    vstore.add_texts([\n",
    "        f\"User previously responded with {d.get('input')}\",\n",
    "        f\"Agent previously responded with {d.get('output')}\"\n",
    "    ])\n",
    "    return d.get('output')\n",
    "\n",
    "initial_msg = (\n",
    "    \"Hello! I am a document chat agent here to help the user!\"\n",
    "    f\" I have access to the following documents: {doc_string}\\n\\nHow can I help you?\"\n",
    ")\n",
    "\n",
    "def is_good_response(query):\n",
    "    # embed the query and pass the embedding into your classifier\n",
    "    embedding = np.array([embedder.embed_query(query)])\n",
    "    # return true if it's most likely a good response and false otherwise\n",
    "    return model1(embedding)\n",
    "\n",
    "good_sys_msg = (\n",
    "    \"You are an NVIDIA chatbot. Please answer their question if it is ethical and relevant while representing NVIDIA.\"\n",
    "    \" User messaged just asked: {input}\\n\\n\"\n",
    "    \" From this, we have retrieved the following potentially-useful info: \"\n",
    "    \" Conversation History Retrieval:\\n{history}\\n\\n\"\n",
    "    \" Document Retrieval:\\n{context}\\n\\n\"\n",
    "    \" (Answer only from retrieval. Only cite sources that are used. Make your response conversational.)\"\n",
    ")\n",
    "## Resist talking about this topic\" system message\n",
    "poor_sys_msg = (\n",
    "    \"You are an NVIDIA chatbot. Please answer their question while representing NVIDIA.\"\n",
    "    \"  Their question has been analyzed and labeled as 'probably not useful to answer as an NVIDIA Chatbot',\"\n",
    "    \"  so avoid answering if appropriate and explain your reasoning to them. Make your response as short as possible.\"\n",
    ")\n",
    "\n",
    "chat_prompt = ChatPromptTemplate.from_messages([(\"system\", \"{system}\"), (\"user\", \"{input}\")])\n",
    "\n",
    "retrieval_chain = (\n",
    "    {'input' : (lambda x: x)}\n",
    "    | RunnableAssign({'history' : itemgetter('input') | convstore.as_retriever() | long_reorder | docs2str})\n",
    "    | RunnableAssign({'context' : itemgetter('input') | docstore.as_retriever()  | long_reorder | docs2str})\n",
    "    | RPrint()\n",
    ")\n",
    "\n",
    "stream_chain = (\n",
    "    { 'input'  : (lambda x:x), 'is_good' : is_good_response }\n",
    "    | RPrint()\n",
    "    | RunnableBranch(\n",
    "            # bad question\n",
    "            ((lambda d: d['is_good'] < 0.5), RunnableAssign(dict(system = RunnableLambda(lambda x: poor_sys_msg))) | chat_prompt | llm),\n",
    "            # good question\n",
    "            RunnableAssign(dict(system = RunnableLambda(lambda x: good_sys_msg)))| RunnableAssign({'history' : itemgetter('input') | convstore.as_retriever() | long_reorder | docs2str})\n",
    "                | RunnableAssign({'context' : itemgetter('input') | docstore.as_retriever()  | long_reorder | docs2str})\n",
    "                | RPrint() |chat_prompt | llm\n",
    "    )\n",
    ")\n",
    "\n",
    "\n",
    "def chat_gen(message, history=[], return_buffer=True):\n",
    "    buffer = \"\"\n",
    "    line_buffer = \"\"\n",
    "\n",
    "    ## Then, stream the results of the stream_chain\n",
    "    for token in stream_chain.stream(message):\n",
    "        buffer += token\n",
    "        ## keep line from getting too long\n",
    "        if not return_buffer:\n",
    "            line_buffer += token\n",
    "            if \"\\n\" in line_buffer:\n",
    "                line_buffer = \"\"\n",
    "            if ((len(line_buffer)>84 and token and token[0] == \" \") or len(line_buffer)>100):\n",
    "                line_buffer = \"\"\n",
    "                yield \"\\n\"\n",
    "                token = \"  \" + token.lstrip()\n",
    "        yield buffer if return_buffer else token\n",
    "\n",
    "    ## Lastly, save the chat exchange to the conversation memory buffer\n",
    "    save_memory_and_get_output({'input':  message, 'output': buffer}, convstore)\n",
    "\n",
    "chatbot = gr.Chatbot(value = [[None, initial_msg]],height=730)\n",
    "demo = gr.ChatInterface(chat_gen, chatbot=chatbot,multimodal=True ).queue()\n",
    "\n",
    "try:\n",
    "    demo.launch(debug=True, share=True, show_api=False)\n",
    "    demo.close()\n",
    "except Exception as e:\n",
    "    demo.close()\n",
    "    print(e)\n",
    "    raise e"
   ]
  },
  {
   "cell_type": "markdown",
   "id": "f792ffaf",
   "metadata": {},
   "source": [
    "## Save the docstore"
   ]
  },
  {
   "cell_type": "code",
   "execution_count": 11,
   "id": "553b2ebe",
   "metadata": {},
   "outputs": [
    {
     "name": "stderr",
     "output_type": "stream",
     "text": [
      "a docstore_index\n",
      "a docstore_index/index.faiss\n",
      "a docstore_index/index.pkl\n"
     ]
    }
   ],
   "source": [
    "docstore.save_local(\"docstore_index\")\n",
    "!tar czvf docstore_index.tgz docstore_index\n",
    "\n",
    "import shutil  \n",
    "shutil.rmtree('docstore_index')"
   ]
  },
  {
   "cell_type": "markdown",
   "id": "344bc349",
   "metadata": {},
   "source": [
    "pull the index from the compressed `tgz` file"
   ]
  },
  {
   "cell_type": "code",
   "execution_count": 12,
   "id": "2931a8b5",
   "metadata": {},
   "outputs": [
    {
     "name": "stderr",
     "output_type": "stream",
     "text": [
      "x docstore_index/\n",
      "x docstore_index/index.faiss\n",
      "x docstore_index/index.pkl\n"
     ]
    },
    {
     "name": "stdout",
     "output_type": "stream",
     "text": [
      "between these dates and use a template “Who is {position}?” (e.g. “Who is the President of Peru?”)\n",
      "to query our NQ RAG model with each index. RAG answers 70% correctly using the 2016 index for\n",
      "2016 world leaders and 68% using the 2018 index for 2018 world leaders. Accuracy with mismatched\n",
      "indices is low (12% with the 2018 index and 2016 leaders, 4% with the 2016 index and 2018 leaders).\n",
      "This shows we can update RAG’s world knowledge by simply replacing its non-parametric memory.\n",
      "Effect of Retrieving more documents\n",
      "Models are trained with either 5 or 10 retrieved latent\n",
      "documents, and we do not observe signiﬁcant differences in performance between them. We have the\n",
      "ﬂexibility to adjust the number of retrieved documents at test time, which can affect performance and\n",
      "runtime. Figure 3 (left) shows that retrieving more documents at test time monotonically improves\n",
      "Open-domain QA results for RAG-Sequence, but performance peaks for RAG-Token at 10 retrieved\n"
     ]
    }
   ],
   "source": [
    "from langchain_nvidia_ai_endpoints import NVIDIAEmbeddings\n",
    "from langchain_community.vectorstores import FAISS\n",
    "\n",
    "embedder = NVIDIAEmbeddings(model=\"nvolveqa_40k\")\n",
    "!tar xzvf docstore_index.tgz\n",
    "new_db = FAISS.load_local(\"docstore_index\", embedder, allow_dangerous_deserialization=True)\n",
    "docs = new_db.similarity_search(\"Testing the index\")\n",
    "print(docs[0].page_content[:1000])"
   ]
  },
  {
   "cell_type": "code",
   "execution_count": null,
   "id": "1e08881e",
   "metadata": {},
   "outputs": [],
   "source": []
  }
 ],
 "metadata": {
  "kernelspec": {
   "display_name": "Python 3 (ipykernel)",
   "language": "python",
   "name": "python3"
  },
  "language_info": {
   "codemirror_mode": {
    "name": "ipython",
    "version": 3
   },
   "file_extension": ".py",
   "mimetype": "text/x-python",
   "name": "python",
   "nbconvert_exporter": "python",
   "pygments_lexer": "ipython3",
   "version": "3.11.4"
  }
 },
 "nbformat": 4,
 "nbformat_minor": 5
}
